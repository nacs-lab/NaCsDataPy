{
 "cells": [
  {
   "cell_type": "code",
   "execution_count": 7,
   "id": "b11031c4",
   "metadata": {},
   "outputs": [],
   "source": [
    "import NaCsData\n",
    "import numpy as np\n",
    "from matplotlib import pyplot as plt"
   ]
  },
  {
   "cell_type": "code",
   "execution_count": null,
   "id": "8c8a6b51",
   "metadata": {},
   "outputs": [
    {
     "name": "stdout",
     "output_type": "stream",
     "text": [
      "Loading N:\\NaCsLab\\Data\\20231030\\data_20231030_125545\\data_20231030_125545.mat\n"
     ]
    }
   ],
   "source": [
    "# Example 1: Get Survivals per site, and avg survivals per parameter with no modifications\n",
    "data = NaCsData.NaCsData('20231030', '125545', 'N:\\\\NaCsLab\\\\Data\\\\')\n",
    "\n",
    "load_img = np.array([2])\n",
    "surv_img = np.array([4])\n",
    "\n",
    "survs, surv_errs, unique_params = data.get_survival_prob_by_site(load_img, surv_img)\n",
    "\n",
    "# The returned survs is nparams x nsites\n",
    "nsites = survs.shape[1]\n",
    "nparams = survs.shape[0]\n",
    "\n",
    "# TODO: No support yet for ScanGroup in Python\n",
    "X = unique_params\n",
    "\n",
    "# Plot sites 1 to 5\n",
    "plt.figure()\n",
    "for site in range(5):\n",
    "    plt.errorbar(X, survs[:,site + 1], surv_errs[:, site + 1])"
   ]
  },
  {
   "cell_type": "code",
   "execution_count": null,
   "id": "5260c0da",
   "metadata": {},
   "outputs": [
    {
     "data": {
      "image/png": "[encoded data removed]",
      "text/plain": [
       "<Figure size 640x480 with 1 Axes>"
      ]
     },
     "metadata": {},
     "output_type": "display_data"
    }
   ],
   "source": [
    "# Now we get the average\n",
    "surv_avg, surv_avg_err, unique_params = data.get_survival_prob_avg(load_img, surv_img)\n",
    "plt.figure()\n",
    "plt.errorbar(X, surv_avg, surv_avg_err)\n",
    "plt.show()"
   ]
  },
  {
   "cell_type": "code",
   "execution_count": null,
   "id": "2b6fa826",
   "metadata": {},
   "outputs": [
    {
     "data": {
      "text/plain": [
       "'/'"
      ]
     },
     "execution_count": 11,
     "metadata": {},
     "output_type": "execute_result"
    }
   ],
   "source": [
    "# Example 2: Time bin\n",
    "chr(47)"
   ]
  },
  {
   "cell_type": "code",
   "execution_count": null,
   "id": "5905595a",
   "metadata": {},
   "outputs": [
    {
     "data": {
      "text/plain": [
       "['__class__',\n",
       " '__delattr__',\n",
       " '__dict__',\n",
       " '__dir__',\n",
       " '__doc__',\n",
       " '__eq__',\n",
       " '__firstlineno__',\n",
       " '__format__',\n",
       " '__ge__',\n",
       " '__getattribute__',\n",
       " '__getstate__',\n",
       " '__gt__',\n",
       " '__hash__',\n",
       " '__init__',\n",
       " '__init_subclass__',\n",
       " '__le__',\n",
       " '__lt__',\n",
       " '__module__',\n",
       " '__ne__',\n",
       " '__new__',\n",
       " '__reduce__',\n",
       " '__reduce_ex__',\n",
       " '__repr__',\n",
       " '__setattr__',\n",
       " '__sizeof__',\n",
       " '__static_attributes__',\n",
       " '__str__',\n",
       " '__subclasshook__',\n",
       " '__weakref__',\n",
       " '_get_load_and_surv_logs',\n",
       " 'datasets',\n",
       " 'get_expectation_val',\n",
       " 'get_load_idxs',\n",
       " 'get_logicals',\n",
       " 'get_survival_prob_avg',\n",
       " 'get_survival_prob_by_site',\n",
       " 'n_datasets',\n",
       " 'param_map']"
      ]
     },
     "execution_count": 12,
     "metadata": {},
     "output_type": "execute_result"
    }
   ],
   "source": [
    "dir(data)"
   ]
  },
  {
   "cell_type": "code",
   "execution_count": null,
   "id": "f97648a5",
   "metadata": {},
   "outputs": [
    {
     "data": {
      "text/plain": [
       "<KeysViewHDF5 ['#refs#', 'Analysis', 'Scan']>"
      ]
     },
     "execution_count": 13,
     "metadata": {},
     "output_type": "execute_result"
    }
   ],
   "source": [
    "data.datasets[0].data.keys()"
   ]
  },
  {
   "cell_type": "code",
   "execution_count": null,
   "id": "265baf11",
   "metadata": {},
   "outputs": [
    {
     "data": {
      "text/plain": [
       "<KeysViewHDF5 ['base', 'runparam', 'scans', 'use_var_base', 'use_var_scans', 'version']>"
      ]
     },
     "execution_count": 14,
     "metadata": {},
     "output_type": "execute_result"
    }
   ],
   "source": [
    "data.datasets[0].data[\"Scan/ScanGroup\"].keys()"
   ]
  },
  {
   "cell_type": "code",
   "execution_count": null,
   "id": "01df0b55",
   "metadata": {},
   "outputs": [
    {
     "data": {
      "text/plain": [
       "<KeysViewHDF5 ['CsBlastSLMF3Amp', 'CsBlastSLMF4Amp', 'DoCoolNa', 'DoDetection', 'DoOP', 'PTweezerSLMCsBlast', 'ParamUnits', 'PlotScale', 'bCsBlastSLM', 'bTrapMerge', 'tCsRampSLMTrap', 'tCsRampSLMWait']>"
      ]
     },
     "execution_count": 15,
     "metadata": {},
     "output_type": "execute_result"
    }
   ],
   "source": [
    "data.datasets[0].data[\"Scan/ScanGroup/base/params\"].keys()"
   ]
  },
  {
   "cell_type": "code",
   "execution_count": null,
   "id": "353b6411",
   "metadata": {},
   "outputs": [
    {
     "data": {
      "text/plain": [
       "<KeysViewHDF5 ['CsBlastSLMF3Amp', 'CsBlastSLMF4Amp', 'DoCoolNa', 'DoDetection', 'DoOP', 'PTweezerSLMCsBlast', 'ParamUnits', 'PlotScale', 'bCsBlastSLM', 'bTrapMerge', 'tCsRampSLMTrap', 'tCsRampSLMWait']>"
      ]
     },
     "execution_count": 16,
     "metadata": {},
     "output_type": "execute_result"
    }
   ],
   "source": [
    "data.datasets[0].data[\"Scan/ScanGroup/base/params\"].keys()"
   ]
  },
  {
   "cell_type": "code",
   "execution_count": 2,
   "id": "bb056400",
   "metadata": {},
   "outputs": [],
   "source": [
    "import utils\n",
    "import h5py\n",
    "import SingleData\n",
    "import numpy as np"
   ]
  },
  {
   "cell_type": "code",
   "execution_count": 3,
   "id": "68ec4da3",
   "metadata": {},
   "outputs": [
    {
     "name": "stdout",
     "output_type": "stream",
     "text": [
      "Loading W:\\NaCsRydLab\\Data\\20250206\\data_20250206_184216\\data_20250206_184216.mat\n"
     ]
    }
   ],
   "source": [
    "data2 = SingleData.SingleData('20250206', '184216', 'W:\\\\NaCsRydLab\\\\Data\\\\')"
   ]
  },
  {
   "cell_type": "code",
   "execution_count": 5,
   "id": "8eba5fec",
   "metadata": {},
   "outputs": [
    {
     "data": {
      "text/plain": [
       "{'DoCoolCs': array(0.),\n",
       " 'DoCoolNa': array(0.),\n",
       " 'DoOP': array(0.),\n",
       " 'Re2DAlg': {'PGrabSLMCs': array(300.),\n",
       "  'PGrabSLMNa': array(20.),\n",
       "  'HorzSelectors': array([ 2.,  4.,  6.,  8., 10., 12., 14., 16., 18., 20.])},\n",
       " 'bTrapMerge': array(0.),\n",
       " 'bUV': array(0.),\n",
       " 'scanfilename': array([ 77,  79,  84,  83,  99,  97, 110, 115], dtype=uint16),\n",
       " 'scanname': array([77, 79, 84, 68, 49], dtype=uint16)}"
      ]
     },
     "execution_count": 5,
     "metadata": {},
     "output_type": "execute_result"
    }
   ],
   "source": [
    "data2.get_fixed_param(1)"
   ]
  },
  {
   "cell_type": "code",
   "execution_count": 6,
   "id": "80c8a3d5",
   "metadata": {},
   "outputs": [
    {
     "data": {
      "text/plain": [
       "'MOTScans'"
      ]
     },
     "execution_count": 6,
     "metadata": {},
     "output_type": "execute_result"
    }
   ],
   "source": [
    "utils.cvt_unicode_to_str(data2.get_fixed_param(1)['scanfilename'])"
   ]
  },
  {
   "cell_type": "code",
   "execution_count": 7,
   "id": "ac65b519",
   "metadata": {},
   "outputs": [],
   "source": [
    "results = data2.data['Scan']['ScanGroup']"
   ]
  },
  {
   "cell_type": "code",
   "execution_count": 12,
   "id": "c3222102",
   "metadata": {},
   "outputs": [
    {
     "data": {
      "text/plain": [
       "{'Re2DAlg': {'VertScanFreq': array([72400000., 72600000., 72800000., 73000000., 73200000.])}}"
      ]
     },
     "execution_count": 12,
     "metadata": {},
     "output_type": "execute_result"
    }
   ],
   "source": [
    "results['scans']['vars'][1]['params']"
   ]
  },
  {
   "cell_type": "code",
   "execution_count": 22,
   "id": "34392110",
   "metadata": {},
   "outputs": [
    {
     "data": {
      "text/plain": [
       "'base'"
      ]
     },
     "execution_count": 22,
     "metadata": {},
     "output_type": "execute_result"
    }
   ],
   "source": [
    "list(results.keys())[0]"
   ]
  },
  {
   "cell_type": "code",
   "execution_count": 15,
   "id": "bcc54656",
   "metadata": {},
   "outputs": [
    {
     "data": {
      "text/plain": [
       "(array(2.), 'Re2DAlg.VertScanIdx')"
      ]
     },
     "execution_count": 15,
     "metadata": {},
     "output_type": "execute_result"
    }
   ],
   "source": [
    "utils.obtain_recursive_key_and_value(results['scans']['params'][2])"
   ]
  },
  {
   "cell_type": "code",
   "execution_count": 4,
   "id": "e217374b",
   "metadata": {},
   "outputs": [
    {
     "ename": "NameError",
     "evalue": "name 'SingleData' is not defined",
     "output_type": "error",
     "traceback": [
      "\u001b[1;31m---------------------------------------------------------------------------\u001b[0m",
      "\u001b[1;31mNameError\u001b[0m                                 Traceback (most recent call last)",
      "Cell \u001b[1;32mIn[4], line 1\u001b[0m\n\u001b[1;32m----> 1\u001b[0m data3 \u001b[38;5;241m=\u001b[39m \u001b[43mSingleData\u001b[49m\u001b[38;5;241m.\u001b[39mSingleData(\u001b[38;5;124m'\u001b[39m\u001b[38;5;124m20250210\u001b[39m\u001b[38;5;124m'\u001b[39m,\u001b[38;5;124m'\u001b[39m\u001b[38;5;124m121401\u001b[39m\u001b[38;5;124m'\u001b[39m, \u001b[38;5;124m'\u001b[39m\u001b[38;5;124mW:\u001b[39m\u001b[38;5;130;01m\\\\\u001b[39;00m\u001b[38;5;124mNaCsRydLab\u001b[39m\u001b[38;5;130;01m\\\\\u001b[39;00m\u001b[38;5;124mData\u001b[39m\u001b[38;5;130;01m\\\\\u001b[39;00m\u001b[38;5;124m'\u001b[39m)\n",
      "\u001b[1;31mNameError\u001b[0m: name 'SingleData' is not defined"
     ]
    }
   ],
   "source": [
    "data3 = SingleData.SingleData('20250210','121401', 'W:\\\\NaCsRydLab\\\\Data\\\\')"
   ]
  },
  {
   "cell_type": "code",
   "execution_count": null,
   "id": "8388fe35",
   "metadata": {},
   "outputs": [
    {
     "data": {
      "text/plain": [
       "{'DetCsBlastSLM': array([ 8000000.,  9700000., 11400000., 13100000., 14800000., 16500000.,\n",
       "        18200000., 19900000., 21600000., 23300000., 25000000.]),\n",
       " 'Na': {'Detect': {'Blast': {'F2Det': array([12000000., 14300000., 16600000., 18900000., 21200000., 23500000.,\n",
       "           25800000., 28100000., 30400000., 32700000., 35000000.])}}}}"
      ]
     },
     "execution_count": 25,
     "metadata": {},
     "output_type": "execute_result"
    }
   ],
   "source": [
    "data3.data['Scan']['ScanGroup']["
   ]
  },
  {
   "cell_type": "code",
   "execution_count": 32,
   "id": "341dab4a",
   "metadata": {},
   "outputs": [
    {
     "data": {
      "text/plain": [
       "False"
      ]
     },
     "execution_count": 32,
     "metadata": {},
     "output_type": "execute_result"
    }
   ],
   "source": [
    "isinstance(data3.data['Scan']['ScanGroup']['scans']['params'], dict)"
   ]
  },
  {
   "cell_type": "code",
   "execution_count": 1,
   "id": "adff5a38",
   "metadata": {},
   "outputs": [
    {
     "name": "stdout",
     "output_type": "stream",
     "text": [
      "Loading W:\\NaCsRydLab\\Data\\20250212\\data_20250212_101956\\data_20250212_101956.mat\n"
     ]
    }
   ],
   "source": [
    "import SingleData\n",
    "import numpy as np\n",
    "\n",
    "data3 = SingleData.SingleData('20250212', '101956', 'W:\\\\NaCsRydLab\\\\Data\\\\')"
   ]
  },
  {
   "cell_type": "code",
   "execution_count": 3,
   "id": "a9946635",
   "metadata": {},
   "outputs": [
    {
     "data": {
      "text/plain": [
       "array([   1,    2,    3, ..., 1314, 1315, 1316], shape=(1316,))"
      ]
     },
     "execution_count": 3,
     "metadata": {},
     "output_type": "execute_result"
    }
   ],
   "source": [
    "results = data3.get_logicals(seq_idxs=np.array([1,2,3]), img_idxs=[2,4,3])\n",
    "data3.seq_idxs"
   ]
  },
  {
   "cell_type": "code",
   "execution_count": 1,
   "id": "e345c4bd",
   "metadata": {},
   "outputs": [],
   "source": [
    "import utils"
   ]
  },
  {
   "cell_type": "code",
   "execution_count": 4,
   "id": "9a68756c",
   "metadata": {},
   "outputs": [],
   "source": [
    "dict1 = {'a': {'x': 1, 'y': 2, 'arr': [{'a' : 6}, {'b': 8 }, [1,1]]}, 'b': 3}\n",
    "dict2 = {'a': {'y': 10, 'z': 20, 'arr' : [{'a': 7}, [0,0], {'c': 8}]}, 'c': 4}\n",
    "result_dict = utils.merge_dicts(dict1, dict2)"
   ]
  },
  {
   "cell_type": "code",
   "execution_count": 5,
   "id": "446a5894",
   "metadata": {},
   "outputs": [
    {
     "data": {
      "text/plain": [
       "{'a': {'x': 1, 'y': 10, 'arr': [{'a': 7}, {'b': 8}, {'c': 8}], 'z': 20},\n",
       " 'b': 3,\n",
       " 'c': 4}"
      ]
     },
     "execution_count": 5,
     "metadata": {},
     "output_type": "execute_result"
    }
   ],
   "source": [
    "result_dict"
   ]
  },
  {
   "cell_type": "code",
   "execution_count": 10,
   "id": "48a501a4",
   "metadata": {},
   "outputs": [
    {
     "ename": "IndexError",
     "evalue": "shape mismatch: indexing arrays could not be broadcast together with shapes (2,) (3,) ",
     "output_type": "error",
     "traceback": [
      "\u001b[1;31m---------------------------------------------------------------------------\u001b[0m",
      "\u001b[1;31mIndexError\u001b[0m                                Traceback (most recent call last)",
      "Cell \u001b[1;32mIn[10], line 1\u001b[0m\n\u001b[1;32m----> 1\u001b[0m \u001b[43ma\u001b[49m\u001b[43m[\u001b[49m\u001b[43m[\u001b[49m\u001b[38;5;241;43m0\u001b[39;49m\u001b[43m,\u001b[49m\u001b[38;5;241;43m1\u001b[39;49m\u001b[43m]\u001b[49m\u001b[43m,\u001b[49m\u001b[43m \u001b[49m\u001b[38;5;241;43m1\u001b[39;49m\u001b[43m,\u001b[49m\u001b[43m \u001b[49m\u001b[43m[\u001b[49m\u001b[38;5;241;43m0\u001b[39;49m\u001b[43m,\u001b[49m\u001b[38;5;241;43m2\u001b[39;49m\u001b[43m,\u001b[49m\u001b[38;5;241;43m3\u001b[39;49m\u001b[43m]\u001b[49m\u001b[43m]\u001b[49m\n",
      "\u001b[1;31mIndexError\u001b[0m: shape mismatch: indexing arrays could not be broadcast together with shapes (2,) (3,) "
     ]
    }
   ],
   "source": [
    "a[[0,1], 1, [0,2,3]]"
   ]
  },
  {
   "cell_type": "code",
   "execution_count": 12,
   "id": "b24d29e1",
   "metadata": {},
   "outputs": [
    {
     "name": "stderr",
     "output_type": "stream",
     "text": [
      "C:\\Users\\goyan\\AppData\\Local\\Temp\\ipykernel_9476\\4178106197.py:1: DeprecationWarning: `in1d` is deprecated. Use `np.isin` instead.\n",
      "  np.where(np.in1d(np.array([0,1,2]), np.array([1,2,3])))[0]\n"
     ]
    },
    {
     "data": {
      "text/plain": [
       "array([1, 2])"
      ]
     },
     "execution_count": 12,
     "metadata": {},
     "output_type": "execute_result"
    }
   ],
   "source": [
    "np.where(np.in1d(np.array([0,1,2]), np.array([1,2,3])))[0]"
   ]
  },
  {
   "cell_type": "code",
   "execution_count": null,
   "id": "5352d0c4",
   "metadata": {},
   "outputs": [],
   "source": []
  }
 ],
 "metadata": {
  "kernelspec": {
   "display_name": "Python 3",
   "language": "python",
   "name": "python3"
  },
  "language_info": {
   "codemirror_mode": {
    "name": "ipython",
    "version": 3
   },
   "file_extension": ".py",
   "mimetype": "text/x-python",
   "name": "python",
   "nbconvert_exporter": "python",
   "pygments_lexer": "ipython3",
   "version": "3.13.2"
  }
 },
 "nbformat": 4,
 "nbformat_minor": 5
}
