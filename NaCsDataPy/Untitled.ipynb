{
 "cells": [
  {
   "cell_type": "code",
   "execution_count": 5,
   "id": "b11031c4",
   "metadata": {},
   "outputs": [],
   "source": [
    "import NaCsData\n",
    "import numpy as np\n",
    "from matplotlib import pyplot as plt"
   ]
  },
  {
   "cell_type": "code",
   "execution_count": 2,
   "id": "8c8a6b51",
   "metadata": {},
   "outputs": [
    {
     "ename": "NameError",
     "evalue": "name 'NaCsData' is not defined",
     "output_type": "error",
     "traceback": [
      "\u001b[1;31m---------------------------------------------------------------------------\u001b[0m",
      "\u001b[1;31mNameError\u001b[0m                                 Traceback (most recent call last)",
      "Cell \u001b[1;32mIn[2], line 2\u001b[0m\n\u001b[0;32m      1\u001b[0m \u001b[38;5;66;03m# Example 1: Get Survivals per site, and avg survivals per parameter with no modifications\u001b[39;00m\n\u001b[1;32m----> 2\u001b[0m data \u001b[38;5;241m=\u001b[39m \u001b[43mNaCsData\u001b[49m\u001b[38;5;241m.\u001b[39mNaCsData(\u001b[38;5;124m'\u001b[39m\u001b[38;5;124m20231030\u001b[39m\u001b[38;5;124m'\u001b[39m, \u001b[38;5;124m'\u001b[39m\u001b[38;5;124m125545\u001b[39m\u001b[38;5;124m'\u001b[39m, \u001b[38;5;124m'\u001b[39m\u001b[38;5;124mN:\u001b[39m\u001b[38;5;130;01m\\\\\u001b[39;00m\u001b[38;5;124mNaCsLab\u001b[39m\u001b[38;5;130;01m\\\\\u001b[39;00m\u001b[38;5;124mData\u001b[39m\u001b[38;5;130;01m\\\\\u001b[39;00m\u001b[38;5;124m'\u001b[39m)\n\u001b[0;32m      4\u001b[0m load_img \u001b[38;5;241m=\u001b[39m np\u001b[38;5;241m.\u001b[39marray([\u001b[38;5;241m2\u001b[39m])\n\u001b[0;32m      5\u001b[0m surv_img \u001b[38;5;241m=\u001b[39m np\u001b[38;5;241m.\u001b[39marray([\u001b[38;5;241m4\u001b[39m])\n",
      "\u001b[1;31mNameError\u001b[0m: name 'NaCsData' is not defined"
     ]
    }
   ],
   "source": [
    "# Example 1: Get Survivals per site, and avg survivals per parameter with no modifications\n",
    "data = NaCsData.NaCsData('20231030', '125545', 'N:\\\\NaCsLab\\\\Data\\\\')\n",
    "\n",
    "load_img = np.array([2])\n",
    "surv_img = np.array([4])\n",
    "\n",
    "survs, surv_errs, unique_params = data.get_survival_prob_by_site(load_img, surv_img)\n",
    "\n",
    "# The returned survs is nparams x nsites\n",
    "nsites = survs.shape[1]\n",
    "nparams = survs.shape[0]\n",
    "\n",
    "# TODO: No support yet for ScanGroup in Python\n",
    "X = unique_params\n",
    "\n",
    "# Plot sites 1 to 5\n",
    "plt.figure()\n",
    "for site in range(5):\n",
    "    plt.errorbar(X, survs[:,site + 1], surv_errs[:, site + 1])"
   ]
  },
  {
   "cell_type": "code",
   "execution_count": null,
   "id": "5260c0da",
   "metadata": {},
   "outputs": [
    {
     "data": {
      "image/png": "[encoded data removed]",
      "text/plain": [
       "<Figure size 640x480 with 1 Axes>"
      ]
     },
     "metadata": {},
     "output_type": "display_data"
    }
   ],
   "source": [
    "# Now we get the average\n",
    "surv_avg, surv_avg_err, unique_params = data.get_survival_prob_avg(load_img, surv_img)\n",
    "plt.figure()\n",
    "plt.errorbar(X, surv_avg, surv_avg_err)\n",
    "plt.show()"
   ]
  },
  {
   "cell_type": "code",
   "execution_count": null,
   "id": "2b6fa826",
   "metadata": {},
   "outputs": [
    {
     "data": {
      "text/plain": [
       "'/'"
      ]
     },
     "execution_count": 11,
     "metadata": {},
     "output_type": "execute_result"
    }
   ],
   "source": [
    "# Example 2: Time bin\n",
    "chr(47)"
   ]
  },
  {
   "cell_type": "code",
   "execution_count": null,
   "id": "5905595a",
   "metadata": {},
   "outputs": [
    {
     "data": {
      "text/plain": [
       "['__class__',\n",
       " '__delattr__',\n",
       " '__dict__',\n",
       " '__dir__',\n",
       " '__doc__',\n",
       " '__eq__',\n",
       " '__firstlineno__',\n",
       " '__format__',\n",
       " '__ge__',\n",
       " '__getattribute__',\n",
       " '__getstate__',\n",
       " '__gt__',\n",
       " '__hash__',\n",
       " '__init__',\n",
       " '__init_subclass__',\n",
       " '__le__',\n",
       " '__lt__',\n",
       " '__module__',\n",
       " '__ne__',\n",
       " '__new__',\n",
       " '__reduce__',\n",
       " '__reduce_ex__',\n",
       " '__repr__',\n",
       " '__setattr__',\n",
       " '__sizeof__',\n",
       " '__static_attributes__',\n",
       " '__str__',\n",
       " '__subclasshook__',\n",
       " '__weakref__',\n",
       " '_get_load_and_surv_logs',\n",
       " 'datasets',\n",
       " 'get_expectation_val',\n",
       " 'get_load_idxs',\n",
       " 'get_logicals',\n",
       " 'get_survival_prob_avg',\n",
       " 'get_survival_prob_by_site',\n",
       " 'n_datasets',\n",
       " 'param_map']"
      ]
     },
     "execution_count": 12,
     "metadata": {},
     "output_type": "execute_result"
    }
   ],
   "source": [
    "dir(data)"
   ]
  },
  {
   "cell_type": "code",
   "execution_count": null,
   "id": "f97648a5",
   "metadata": {},
   "outputs": [
    {
     "data": {
      "text/plain": [
       "<KeysViewHDF5 ['#refs#', 'Analysis', 'Scan']>"
      ]
     },
     "execution_count": 13,
     "metadata": {},
     "output_type": "execute_result"
    }
   ],
   "source": [
    "data.datasets[0].data.keys()"
   ]
  },
  {
   "cell_type": "code",
   "execution_count": null,
   "id": "265baf11",
   "metadata": {},
   "outputs": [
    {
     "data": {
      "text/plain": [
       "<KeysViewHDF5 ['base', 'runparam', 'scans', 'use_var_base', 'use_var_scans', 'version']>"
      ]
     },
     "execution_count": 14,
     "metadata": {},
     "output_type": "execute_result"
    }
   ],
   "source": [
    "data.datasets[0].data[\"Scan/ScanGroup\"].keys()"
   ]
  },
  {
   "cell_type": "code",
   "execution_count": null,
   "id": "01df0b55",
   "metadata": {},
   "outputs": [
    {
     "data": {
      "text/plain": [
       "<KeysViewHDF5 ['CsBlastSLMF3Amp', 'CsBlastSLMF4Amp', 'DoCoolNa', 'DoDetection', 'DoOP', 'PTweezerSLMCsBlast', 'ParamUnits', 'PlotScale', 'bCsBlastSLM', 'bTrapMerge', 'tCsRampSLMTrap', 'tCsRampSLMWait']>"
      ]
     },
     "execution_count": 15,
     "metadata": {},
     "output_type": "execute_result"
    }
   ],
   "source": [
    "data.datasets[0].data[\"Scan/ScanGroup/base/params\"].keys()"
   ]
  },
  {
   "cell_type": "code",
   "execution_count": null,
   "id": "353b6411",
   "metadata": {},
   "outputs": [
    {
     "data": {
      "text/plain": [
       "<KeysViewHDF5 ['CsBlastSLMF3Amp', 'CsBlastSLMF4Amp', 'DoCoolNa', 'DoDetection', 'DoOP', 'PTweezerSLMCsBlast', 'ParamUnits', 'PlotScale', 'bCsBlastSLM', 'bTrapMerge', 'tCsRampSLMTrap', 'tCsRampSLMWait']>"
      ]
     },
     "execution_count": 16,
     "metadata": {},
     "output_type": "execute_result"
    }
   ],
   "source": [
    "data.datasets[0].data[\"Scan/ScanGroup/base/params\"].keys()"
   ]
  },
  {
   "cell_type": "code",
   "execution_count": 1,
   "id": "bb056400",
   "metadata": {},
   "outputs": [],
   "source": [
    "import utils\n",
    "import h5py\n",
    "import SingleData\n",
    "import DataProcessTools as dpt\n",
    "import PlotProcessTools as ppt\n",
    "import numpy as np\n",
    "import itertools\n",
    "from matplotlib import pyplot as plt\n",
    "import matplotlib.patches as patches"
   ]
  },
  {
   "cell_type": "code",
   "execution_count": 10,
   "id": "68ec4da3",
   "metadata": {},
   "outputs": [
    {
     "name": "stdout",
     "output_type": "stream",
     "text": [
      "Loading W:\\NaCsRydLab\\Data\\20250206\\data_20250206_184216\\data_20250206_184216.mat\n"
     ]
    }
   ],
   "source": [
    "data2 = SingleData.SingleData('20250206', '184216', 'W:\\\\NaCsRydLab\\\\Data\\\\')"
   ]
  },
  {
   "cell_type": "code",
   "execution_count": 11,
   "id": "f3f1b1aa",
   "metadata": {},
   "outputs": [
    {
     "data": {
      "text/plain": [
       "(90, 160, 8)"
      ]
     },
     "execution_count": 11,
     "metadata": {},
     "output_type": "execute_result"
    }
   ],
   "source": [
    "data2.data['Analysis']['SummaryData']['av_images'].shape"
   ]
  },
  {
   "cell_type": "code",
   "execution_count": 4,
   "id": "a2a148d4",
   "metadata": {},
   "outputs": [
    {
     "data": {
      "text/plain": [
       "(<Figure size 640x480 with 8 Axes>,\n",
       " array([<Axes: >, <Axes: >, <Axes: >, <Axes: >, <Axes: >, <Axes: >,\n",
       "        <Axes: >, <Axes: >], dtype=object))"
      ]
     },
     "execution_count": 4,
     "metadata": {},
     "output_type": "execute_result"
    }
   ],
   "source": [
    "%matplotlib tk\n",
    "# fig, ax = plt.subplots()\n",
    "# ax.imshow(data2.data['Analysis']['SummaryData']['av_images'][:,:,2], extent=(-79.5, 80.5, 44.5, -45.5))\n",
    "# rect = patches.Rectangle((-58 - 4 / 2 - 0.5, 10 - 4 / 2 - 0.5), 5, 5, edgecolor='red', facecolor='none', linewidth=2)\n",
    "# ax.add_patch(rect)\n",
    "# ax.text(-58 - 3.5, 10 - 3.5, '1', color='red')\n",
    "\n",
    "ppt.plot_images(data2.data['Analysis']['SummaryData']['av_images'], data2.data['Scan']['SingleAtomSites'], [data2.data['Scan']['BoxSize'] for i in range(8)])\n"
   ]
  },
  {
   "cell_type": "code",
   "execution_count": 12,
   "id": "8eba5fec",
   "metadata": {},
   "outputs": [
    {
     "data": {
      "text/plain": [
       "(<Figure size 640x480 with 4 Axes>,\n",
       " array([[<Axes: >],\n",
       "        [<Axes: >],\n",
       "        [<Axes: >],\n",
       "        [<Axes: xlabel='Electron counts'>]], dtype=object))"
      ]
     },
     "execution_count": 12,
     "metadata": {},
     "output_type": "execute_result"
    }
   ],
   "source": [
    "sigs, param_list, _ = data2.get_signals()\n",
    "ppt.plot_histograms(sigs[2:3, 0:4,:])"
   ]
  },
  {
   "cell_type": "code",
   "execution_count": 20,
   "id": "91965268",
   "metadata": {},
   "outputs": [
    {
     "data": {
      "text/plain": [
       "3"
      ]
     },
     "execution_count": 20,
     "metadata": {},
     "output_type": "execute_result"
    }
   ],
   "source": [
    "len(np.array([2,3,4]))"
   ]
  },
  {
   "cell_type": "code",
   "execution_count": 2,
   "id": "f458949b",
   "metadata": {},
   "outputs": [
    {
     "name": "stdout",
     "output_type": "stream",
     "text": [
      "Loading N:\\NaCsLab\\Data\\20231030\\data_20231030_125545\\data_20231030_125545.mat\n"
     ]
    }
   ],
   "source": [
    "data = SingleData.SingleData('20231030', '125545', 'N:\\\\NaCsLab\\\\Data\\\\')"
   ]
  },
  {
   "cell_type": "code",
   "execution_count": 3,
   "id": "7d5ac50b",
   "metadata": {},
   "outputs": [],
   "source": [
    "surv, surv_err = data.get_site_by_site_survival([2], [4])\n",
    "params, param_name = data.get_scan_param(1,1,1)"
   ]
  },
  {
   "cell_type": "code",
   "execution_count": 6,
   "id": "168364d7",
   "metadata": {},
   "outputs": [
    {
     "name": "stdout",
     "output_type": "stream",
     "text": [
      "[  0.  10.  20.  30.  50. 100. 200.]\n",
      "[0.97007042 0.94483986 0.8479021  0.72181818 0.46428571 0.24418605\n",
      " 0.11443662]\n",
      "[  0.  10.  20.  30.  50. 100. 200.]\n",
      "[0.98458904 0.91860465 0.78846154 0.71357616 0.51993355 0.30130293\n",
      " 0.19370861]\n",
      "[  0.  10.  20.  30.  50. 100. 200.]\n",
      "[0.98669202 0.94107744 0.86443662 0.7670068  0.57317073 0.36538462\n",
      " 0.27910959]\n",
      "[  0.  10.  20.  30.  50. 100. 200.]\n",
      "[0.98339483 0.91403509 0.82536765 0.62541254 0.50892857 0.26342282\n",
      " 0.16856061]\n",
      "[  0.  10.  20.  30.  50. 100. 200.]\n",
      "[0.98028674 0.9362069  0.79827586 0.71240602 0.52871622 0.33848797\n",
      " 0.26430976]\n",
      "[  0.  10.  20.  30.  50. 100. 200.]\n",
      "[0.98404255 0.95034247 0.76268116 0.6362069  0.49479167 0.28401361\n",
      " 0.16784452]\n",
      "[  0.  10.  20.  30.  50. 100. 200.]\n",
      "[0.98141892 0.92084942 0.79676259 0.70376712 0.47610922 0.30639098\n",
      " 0.24035088]\n",
      "[  0.  10.  20.  30.  50. 100. 200.]\n",
      "[0.98314607 0.95882353 0.78320312 0.64869888 0.51060071 0.31081081\n",
      " 0.18592058]\n",
      "[  0.  10.  20.  30.  50. 100. 200.]\n",
      "[0.96532847 0.91607143 0.84201389 0.6852518  0.48793103 0.27946768\n",
      " 0.23148148]\n",
      "[  0.  10.  20.  30.  50. 100. 200.]\n",
      "[0.97962963 0.91058394 0.83935018 0.64259259 0.5093985  0.29166667\n",
      " 0.18498168]\n",
      "[  0.  10.  20.  30.  50. 100. 200.]\n",
      "[0.97601476 0.93796992 0.77757353 0.69055944 0.52061856 0.31902985\n",
      " 0.20342205]\n",
      "[  0.  10.  20.  30.  50. 100. 200.]\n",
      "[0.98674242 0.94083969 0.80037313 0.64590747 0.46111111 0.29821429\n",
      " 0.20192308]\n",
      "[  0.  10.  20.  30.  50. 100. 200.]\n",
      "[0.98221344 0.92073171 0.83531746 0.68307087 0.52641509 0.21280992\n",
      " 0.226     ]\n",
      "[  0.  10.  20.  30.  50. 100. 200.]\n",
      "[0.9906015  0.93494424 0.79201681 0.65551181 0.45057034 0.32879377\n",
      " 0.21193416]\n",
      "[  0.  10.  20.  30.  50. 100. 200.]\n",
      "[0.96401515 0.93223443 0.822      0.62304688 0.4704797  0.29591837\n",
      " 0.19803922]\n",
      "[  0.  10.  20.  30.  50. 100. 200.]\n",
      "[0.97766323 0.89857651 0.78546099 0.69322034 0.45081967 0.30978261\n",
      " 0.16047297]\n",
      "[  0.  10.  20.  30.  50. 100. 200.]\n",
      "[0.97395833 0.9290429  0.81672598 0.65254237 0.475      0.33061889\n",
      " 0.3019802 ]\n",
      "[  0.  10.  20.  30.  50. 100. 200.]\n",
      "[0.98028674 0.95519713 0.86607143 0.7599278  0.52288732 0.40858209\n",
      " 0.25381679]\n",
      "[  0.  10.  20.  30.  50. 100. 200.]\n",
      "[0.99498328 0.90590406 0.79241877 0.67490494 0.40328467 0.2712766\n",
      " 0.19827586]\n",
      "[  0.  10.  20.  30.  50. 100. 200.]\n",
      "[0.96746575 0.92881944 0.83156028 0.65740741 0.45979021 0.30363636\n",
      " 0.24074074]\n",
      "[  0.  10.  20.  30.  50. 100. 200.]\n",
      "[0.98333333 0.94148936 0.83510638 0.68490566 0.47594502 0.37859425\n",
      " 0.24911661]\n",
      "[  0.  10.  20.  30.  50. 100. 200.]\n",
      "[0.98853211 0.914      0.81120332 0.64285714 0.47357724 0.28969957\n",
      " 0.21106557]\n",
      "[  0.  10.  20.  30.  50. 100. 200.]\n",
      "[0.98421053 0.93133803 0.84774436 0.67907801 0.54597701 0.37632509\n",
      " 0.24531835]\n",
      "[  0.  10.  20.  30.  50. 100. 200.]\n",
      "[0.96607143 0.89833333 0.80483271 0.6865942  0.47894737 0.29461279\n",
      " 0.17611336]\n",
      "[  0.  10.  20.  30.  50. 100. 200.]\n",
      "[0.97924528 0.92572464 0.82600733 0.61787072 0.47962963 0.31529851\n",
      " 0.24300699]\n"
     ]
    },
    {
     "data": {
      "text/plain": [
       "(<Figure size 640x480 with 1 Axes>, array([[<Axes: >]], dtype=object))"
      ]
     },
     "execution_count": 6,
     "metadata": {},
     "output_type": "execute_result"
    },
    {
     "data": {
      "image/png": "[encoded data removed]",
      "text/plain": [
       "<Figure size 640x480 with 1 Axes>"
      ]
     },
     "metadata": {},
     "output_type": "display_data"
    }
   ],
   "source": [
    "ppt.plot_survival(params/1e-6, surv[np.newaxis, 0:25,0:7], surv_err[np.newaxis, 0:25, 0:7])"
   ]
  },
  {
   "cell_type": "code",
   "execution_count": 9,
   "id": "70b74770",
   "metadata": {},
   "outputs": [
    {
     "data": {
      "text/plain": [
       "(<Figure size 640x480 with 4 Axes>,\n",
       " array([<Axes: >, <Axes: >, <Axes: >, <Axes: >], dtype=object))"
      ]
     },
     "execution_count": 9,
     "metadata": {},
     "output_type": "execute_result"
    }
   ],
   "source": [
    "%matplotlib tk\n",
    "# fig, ax = plt.subplots()\n",
    "# ax.imshow(data2.data['Analysis']['SummaryData']['av_images'][:,:,2], extent=(-79.5, 80.5, 44.5, -45.5))\n",
    "# rect = patches.Rectangle((-58 - 4 / 2 - 0.5, 10 - 4 / 2 - 0.5), 5, 5, edgecolor='red', facecolor='none', linewidth=2)\n",
    "# ax.add_patch(rect)\n",
    "# ax.text(-58 - 3.5, 10 - 3.5, '1', color='red')\n",
    "\n",
    "ppt.plot_images(data.data['Analysis']['SummaryData']['av_images'])\n"
   ]
  },
  {
   "cell_type": "code",
   "execution_count": 9,
   "id": "c32605e6",
   "metadata": {},
   "outputs": [
    {
     "data": {
      "text/plain": [
       "<Axes: >"
      ]
     },
     "execution_count": 9,
     "metadata": {},
     "output_type": "execute_result"
    }
   ],
   "source": [
    "ax[0,1]"
   ]
  },
  {
   "cell_type": "code",
   "execution_count": null,
   "id": "80c8a3d5",
   "metadata": {},
   "outputs": [
    {
     "data": {
      "text/plain": [
       "'MOTScans'"
      ]
     },
     "execution_count": 6,
     "metadata": {},
     "output_type": "execute_result"
    }
   ],
   "source": [
    "utils.cvt_unicode_to_str(data2.get_fixed_param(1)['scanfilename'])"
   ]
  },
  {
   "cell_type": "code",
   "execution_count": null,
   "id": "ac65b519",
   "metadata": {},
   "outputs": [],
   "source": [
    "results = data2.data['Scan']['ScanGroup']"
   ]
  },
  {
   "cell_type": "code",
   "execution_count": null,
   "id": "c3222102",
   "metadata": {},
   "outputs": [
    {
     "data": {
      "text/plain": [
       "[{'Re2DAlg': {'HorzOffset': array([-200000., -100000.,       0.,  100000.,  200000.])}},\n",
       " {'Re2DAlg': {'HorzSpacing': array([-50000., -25000.,      0.,  25000.,  50000.])}}]"
      ]
     },
     "execution_count": 25,
     "metadata": {},
     "output_type": "execute_result"
    }
   ],
   "source": [
    "results['scans']['vars'][0]['params']\n"
   ]
  },
  {
   "cell_type": "code",
   "execution_count": null,
   "id": "34392110",
   "metadata": {},
   "outputs": [
    {
     "data": {
      "text/plain": [
       "array([0, 0], dtype=uint64)"
      ]
     },
     "execution_count": 33,
     "metadata": {},
     "output_type": "execute_result"
    }
   ],
   "source": [
    "results['base']['vars']"
   ]
  },
  {
   "cell_type": "code",
   "execution_count": null,
   "id": "bcc54656",
   "metadata": {},
   "outputs": [
    {
     "data": {
      "text/plain": [
       "(array(2.), 'Re2DAlg.VertScanIdx')"
      ]
     },
     "execution_count": 15,
     "metadata": {},
     "output_type": "execute_result"
    }
   ],
   "source": [
    "utils.obtain_recursive_key_and_value(results['scans']['params'][2])"
   ]
  },
  {
   "cell_type": "code",
   "execution_count": 3,
   "id": "e217374b",
   "metadata": {},
   "outputs": [
    {
     "name": "stdout",
     "output_type": "stream",
     "text": [
      "Loading W:\\NaCsRydLab\\Data\\20250214\\data_20250214_175910\\data_20250214_175910.mat\n"
     ]
    }
   ],
   "source": [
    "data3 = SingleData.SingleData('20250214','175910', 'W:\\\\NaCsRydLab\\\\Data\\\\')"
   ]
  },
  {
   "cell_type": "code",
   "execution_count": 4,
   "id": "acd6c9f7",
   "metadata": {},
   "outputs": [
    {
     "data": {
      "text/plain": [
       "(4, 40, 434)"
      ]
     },
     "execution_count": 4,
     "metadata": {},
     "output_type": "execute_result"
    }
   ],
   "source": [
    "logicals, param_list, _ = data3.get_logicals()\n",
    "logicals.shape"
   ]
  },
  {
   "cell_type": "code",
   "execution_count": 5,
   "id": "611f8e82",
   "metadata": {},
   "outputs": [],
   "source": [
    "surv, surv_err = dpt.calculate_survival(logicals[0,0,:], logicals[2,0,:], param_list)\n",
    "load_rate, load_rate_err = dpt.calculate_loading(logicals[1,:,:], param_list)"
   ]
  },
  {
   "cell_type": "code",
   "execution_count": null,
   "id": "ce7c052a",
   "metadata": {},
   "outputs": [
    {
     "data": {
      "text/plain": [
       "[1, 2, 3, 4, 5]"
      ]
     },
     "execution_count": 26,
     "metadata": {},
     "output_type": "execute_result"
    }
   ],
   "source": [
    "ppt.plot_survival()"
   ]
  },
  {
   "cell_type": "code",
   "execution_count": 16,
   "id": "3b456ee7",
   "metadata": {},
   "outputs": [
    {
     "data": {
      "text/plain": [
       "1"
      ]
     },
     "execution_count": 16,
     "metadata": {},
     "output_type": "execute_result"
    }
   ],
   "source": [
    "data3.data['Scan']['ScanGroup']['scans']['baseidx'].size"
   ]
  },
  {
   "cell_type": "code",
   "execution_count": 9,
   "id": "9c19633f",
   "metadata": {},
   "outputs": [
    {
     "ename": "TypeError",
     "evalue": "len() of unsized object",
     "output_type": "error",
     "traceback": [
      "\u001b[1;31m---------------------------------------------------------------------------\u001b[0m",
      "\u001b[1;31mTypeError\u001b[0m                                 Traceback (most recent call last)",
      "Cell \u001b[1;32mIn[9], line 1\u001b[0m\n\u001b[1;32m----> 1\u001b[0m \u001b[43mdata3\u001b[49m\u001b[38;5;241;43m.\u001b[39;49m\u001b[43mget_scan_param\u001b[49m\u001b[43m(\u001b[49m\u001b[38;5;241;43m1\u001b[39;49m\u001b[43m,\u001b[49m\u001b[38;5;241;43m1\u001b[39;49m\u001b[43m,\u001b[49m\u001b[38;5;241;43m1\u001b[39;49m\u001b[43m)\u001b[49m\n",
      "File \u001b[1;32mc:\\Users\\goyan\\projects\\NaCsDataPy\\NaCsDataPy\\SingleData.py:180\u001b[0m, in \u001b[0;36mSingleData.get_scan_param\u001b[1;34m(self, scan_idx, dim, var_idx)\u001b[0m\n\u001b[0;32m    175\u001b[0m \u001b[38;5;28;01mdef\u001b[39;00m \u001b[38;5;21mget_scan_param\u001b[39m(\u001b[38;5;28mself\u001b[39m, scan_idx, dim, var_idx):\n\u001b[0;32m    176\u001b[0m     \u001b[38;5;66;03m# get a scan parameter for a scan_idx in the ScanGroup along dimension dim and variable var_idx\u001b[39;00m\n\u001b[0;32m    177\u001b[0m     \u001b[38;5;66;03m# Note, variables are specified in alphabetical order.\u001b[39;00m\n\u001b[0;32m    178\u001b[0m     \u001b[38;5;66;03m# Note, every index is 1 indexed\u001b[39;00m\n\u001b[0;32m    179\u001b[0m     scgrp \u001b[38;5;241m=\u001b[39m \u001b[38;5;28mself\u001b[39m\u001b[38;5;241m.\u001b[39mdata[\u001b[38;5;124m'\u001b[39m\u001b[38;5;124mScan\u001b[39m\u001b[38;5;124m'\u001b[39m][\u001b[38;5;124m'\u001b[39m\u001b[38;5;124mScanGroup\u001b[39m\u001b[38;5;124m'\u001b[39m]\n\u001b[1;32m--> 180\u001b[0m     nscans \u001b[38;5;241m=\u001b[39m \u001b[38;5;28mint\u001b[39m(\u001b[38;5;28;43mlen\u001b[39;49m\u001b[43m(\u001b[49m\u001b[43mscgrp\u001b[49m\u001b[43m[\u001b[49m\u001b[38;5;124;43m'\u001b[39;49m\u001b[38;5;124;43mscans\u001b[39;49m\u001b[38;5;124;43m'\u001b[39;49m\u001b[43m]\u001b[49m\u001b[43m[\u001b[49m\u001b[38;5;124;43m'\u001b[39;49m\u001b[38;5;124;43mbaseidx\u001b[39;49m\u001b[38;5;124;43m'\u001b[39;49m\u001b[43m]\u001b[49m\u001b[43m)\u001b[49m)\n\u001b[0;32m    181\u001b[0m     \u001b[38;5;28;01mif\u001b[39;00m scan_idx \u001b[38;5;241m>\u001b[39m nscans:\n\u001b[0;32m    182\u001b[0m         \u001b[38;5;28;01mraise\u001b[39;00m \u001b[38;5;167;01mException\u001b[39;00m(\u001b[38;5;124m'\u001b[39m\u001b[38;5;124mscan_idx out of range. Total: \u001b[39m\u001b[38;5;124m'\u001b[39m \u001b[38;5;241m+\u001b[39m \u001b[38;5;28mstr\u001b[39m(nscans) \u001b[38;5;241m+\u001b[39m \u001b[38;5;124m'\u001b[39m\u001b[38;5;124m scans.\u001b[39m\u001b[38;5;124m'\u001b[39m)\n",
      "\u001b[1;31mTypeError\u001b[0m: len() of unsized object"
     ]
    }
   ],
   "source": [
    "data3.get_scan_param(1,1,1)"
   ]
  },
  {
   "cell_type": "code",
   "execution_count": null,
   "id": "62d74f96",
   "metadata": {},
   "outputs": [
    {
     "data": {
      "text/plain": [
       "array([[0.75935374, 0.74588816, 0.74830508, 0.73707665, 0.77241963,\n",
       "        0.74307958, 0.78455285, 0.73421053, 0.77574171, 0.77185315,\n",
       "        0.76903553, 0.80087719],\n",
       "       [0.82297688, 0.82796486, 0.86842105, 0.83602941, 0.81147541,\n",
       "        0.83452722, 0.85176991, 0.83928571, 0.80800654, 0.8283859 ,\n",
       "        0.81019523, 0.79621381]])"
      ]
     },
     "execution_count": 23,
     "metadata": {},
     "output_type": "execute_result"
    }
   ],
   "source": [
    "data3.data['Analysis']['SurvivalProbability']"
   ]
  },
  {
   "cell_type": "code",
   "execution_count": null,
   "id": "8f8ec604",
   "metadata": {},
   "outputs": [],
   "source": [
    "surv, surv_err = data3.get_site_by_site_survival([2], [4], site_idxs=[18])"
   ]
  },
  {
   "cell_type": "code",
   "execution_count": null,
   "id": "5dae3605",
   "metadata": {},
   "outputs": [],
   "source": [
    "surv,surv_err = data3.get_avg_survival([2],[4])"
   ]
  },
  {
   "cell_type": "code",
   "execution_count": null,
   "id": "c1521b71",
   "metadata": {},
   "outputs": [
    {
     "data": {
      "text/plain": [
       "array([0.82297688, 0.82796486, 0.86842105, 0.83602941, 0.81147541,\n",
       "       0.83452722, 0.85176991, 0.83928571, 0.80800654, 0.8283859 ,\n",
       "       0.81019523, 0.79621381])"
      ]
     },
     "execution_count": 21,
     "metadata": {},
     "output_type": "execute_result"
    }
   ],
   "source": [
    "surv"
   ]
  },
  {
   "cell_type": "code",
   "execution_count": null,
   "id": "8388fe35",
   "metadata": {},
   "outputs": [],
   "source": [
    "test = np.zeros((1,4,5))\n",
    "for i in range(1):\n",
    "    for j in range(4):\n",
    "        for k in range(5):\n",
    "            test[i][j][k] = k + j * 0.2"
   ]
  },
  {
   "cell_type": "code",
   "execution_count": null,
   "id": "bcc205bd",
   "metadata": {},
   "outputs": [
    {
     "data": {
      "text/plain": [
       "array([0. , 1. , 2. , 3. , 4. , 0.2, 1.2, 2.2, 3.2, 4.2, 0.4, 1.4, 2.4,\n",
       "       3.4, 4.4, 0.6, 1.6, 2.6, 3.6, 4.6])"
      ]
     },
     "execution_count": 32,
     "metadata": {},
     "output_type": "execute_result"
    }
   ],
   "source": [
    "np.squeeze(np.reshape(test, (1, 20)))"
   ]
  },
  {
   "cell_type": "code",
   "execution_count": null,
   "id": "341dab4a",
   "metadata": {},
   "outputs": [
    {
     "ename": "NameError",
     "evalue": "name 'data2' is not defined",
     "output_type": "error",
     "traceback": [
      "\u001b[1;31m---------------------------------------------------------------------------\u001b[0m",
      "\u001b[1;31mNameError\u001b[0m                                 Traceback (most recent call last)",
      "Cell \u001b[1;32mIn[25], line 1\u001b[0m\n\u001b[1;32m----> 1\u001b[0m \u001b[43mdata2\u001b[49m\u001b[38;5;241m.\u001b[39mdata[\u001b[38;5;124m'\u001b[39m\u001b[38;5;124mScan\u001b[39m\u001b[38;5;124m'\u001b[39m][\u001b[38;5;124m'\u001b[39m\u001b[38;5;124mScanGroup\u001b[39m\u001b[38;5;124m'\u001b[39m][\u001b[38;5;124m'\u001b[39m\u001b[38;5;124mscans\u001b[39m\u001b[38;5;124m'\u001b[39m]\n",
      "\u001b[1;31mNameError\u001b[0m: name 'data2' is not defined"
     ]
    }
   ],
   "source": [
    "data2.data['Scan']['ScanGroup']['scans']"
   ]
  },
  {
   "cell_type": "code",
   "execution_count": null,
   "id": "93cd17d8",
   "metadata": {},
   "outputs": [
    {
     "data": {
      "text/plain": [
       "array([], dtype=int64)"
      ]
     },
     "execution_count": 10,
     "metadata": {},
     "output_type": "execute_result"
    }
   ],
   "source": [
    "a = np.array([1,2,3,4,5])\n",
    "condition = (a < 2) & (a > 4)\n",
    "a[(a < 2) & (a > 4)]"
   ]
  },
  {
   "cell_type": "code",
   "execution_count": null,
   "id": "adff5a38",
   "metadata": {},
   "outputs": [
    {
     "name": "stdout",
     "output_type": "stream",
     "text": [
      "Loading W:\\NaCsRydLab\\Data\\20250212\\data_20250212_101956\\data_20250212_101956.mat\n"
     ]
    }
   ],
   "source": [
    "import SingleData\n",
    "import numpy as np\n",
    "\n",
    "data3 = SingleData.SingleData('20250212', '101956', 'W:\\\\NaCsRydLab\\\\Data\\\\')"
   ]
  },
  {
   "cell_type": "code",
   "execution_count": null,
   "id": "a9946635",
   "metadata": {},
   "outputs": [
    {
     "data": {
      "text/plain": [
       "array([   1,    2,    3, ..., 1314, 1315, 1316], shape=(1316,))"
      ]
     },
     "execution_count": 3,
     "metadata": {},
     "output_type": "execute_result"
    }
   ],
   "source": [
    "results = data3.get_logicals(seq_idxs=np.array([1,2,3]), img_idxs=[2,4,3])\n",
    "data3.seq_idxs"
   ]
  },
  {
   "cell_type": "code",
   "execution_count": null,
   "id": "e345c4bd",
   "metadata": {},
   "outputs": [],
   "source": [
    "import utils"
   ]
  },
  {
   "cell_type": "code",
   "execution_count": null,
   "id": "9a68756c",
   "metadata": {},
   "outputs": [],
   "source": [
    "dict1 = {'a': {'x': 1, 'y': 2, 'arr': [{'a' : 6}, {'b': 8 }, [1,1]]}, 'b': 3}\n",
    "dict2 = {'a': {'y': 10, 'z': 20, 'arr' : [{'a': 7}, [0,0], {'c': 8}]}, 'c': 4}\n",
    "dict1_copy = utils.remove_repeated_keys(dict1, dict2)"
   ]
  },
  {
   "cell_type": "code",
   "execution_count": null,
   "id": "2eca8871",
   "metadata": {},
   "outputs": [],
   "source": [
    "dict3 = {'a': {'x': 3, 'y': 4}, 'b': 8}\n",
    "dict4 = {'a': {'y' : 2}}\n",
    "dict3_copy = utils.remove_repeated_keys(dict3, dict4)"
   ]
  },
  {
   "cell_type": "code",
   "execution_count": null,
   "id": "446a5894",
   "metadata": {},
   "outputs": [
    {
     "data": {
      "text/plain": [
       "{'a': {'x': 3}, 'b': 8}"
      ]
     },
     "execution_count": 20,
     "metadata": {},
     "output_type": "execute_result"
    }
   ],
   "source": [
    "dict3_copy"
   ]
  },
  {
   "cell_type": "code",
   "execution_count": null,
   "id": "48a501a4",
   "metadata": {},
   "outputs": [
    {
     "ename": "IndexError",
     "evalue": "shape mismatch: indexing arrays could not be broadcast together with shapes (2,) (3,) ",
     "output_type": "error",
     "traceback": [
      "\u001b[1;31m---------------------------------------------------------------------------\u001b[0m",
      "\u001b[1;31mIndexError\u001b[0m                                Traceback (most recent call last)",
      "Cell \u001b[1;32mIn[10], line 1\u001b[0m\n\u001b[1;32m----> 1\u001b[0m \u001b[43ma\u001b[49m\u001b[43m[\u001b[49m\u001b[43m[\u001b[49m\u001b[38;5;241;43m0\u001b[39;49m\u001b[43m,\u001b[49m\u001b[38;5;241;43m1\u001b[39;49m\u001b[43m]\u001b[49m\u001b[43m,\u001b[49m\u001b[43m \u001b[49m\u001b[38;5;241;43m1\u001b[39;49m\u001b[43m,\u001b[49m\u001b[43m \u001b[49m\u001b[43m[\u001b[49m\u001b[38;5;241;43m0\u001b[39;49m\u001b[43m,\u001b[49m\u001b[38;5;241;43m2\u001b[39;49m\u001b[43m,\u001b[49m\u001b[38;5;241;43m3\u001b[39;49m\u001b[43m]\u001b[49m\u001b[43m]\u001b[49m\n",
      "\u001b[1;31mIndexError\u001b[0m: shape mismatch: indexing arrays could not be broadcast together with shapes (2,) (3,) "
     ]
    }
   ],
   "source": [
    "a[[0,1], 1, [0,2,3]]"
   ]
  },
  {
   "cell_type": "code",
   "execution_count": null,
   "id": "b24d29e1",
   "metadata": {},
   "outputs": [
    {
     "name": "stderr",
     "output_type": "stream",
     "text": [
      "C:\\Users\\goyan\\AppData\\Local\\Temp\\ipykernel_9476\\4178106197.py:1: DeprecationWarning: `in1d` is deprecated. Use `np.isin` instead.\n",
      "  np.where(np.in1d(np.array([0,1,2]), np.array([1,2,3])))[0]\n"
     ]
    },
    {
     "data": {
      "text/plain": [
       "array([1, 2])"
      ]
     },
     "execution_count": 12,
     "metadata": {},
     "output_type": "execute_result"
    }
   ],
   "source": [
    "np.where(np.in1d(np.array([0,1,2]), np.array([1,2,3])))[0]"
   ]
  },
  {
   "cell_type": "code",
   "execution_count": null,
   "id": "5352d0c4",
   "metadata": {},
   "outputs": [],
   "source": []
  }
 ],
 "metadata": {
  "kernelspec": {
   "display_name": "Python 3",
   "language": "python",
   "name": "python3"
  },
  "language_info": {
   "codemirror_mode": {
    "name": "ipython",
    "version": 3
   },
   "file_extension": ".py",
   "mimetype": "text/x-python",
   "name": "python",
   "nbconvert_exporter": "python",
   "pygments_lexer": "ipython3",
   "version": "3.13.2"
  }
 },
 "nbformat": 4,
 "nbformat_minor": 5
}
