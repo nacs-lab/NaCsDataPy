{
 "cells": [
  {
   "cell_type": "code",
   "execution_count": 7,
   "id": "b11031c4",
   "metadata": {},
   "outputs": [],
   "source": [
    "import NaCsData\n",
    "import numpy as np\n",
    "from matplotlib import pyplot as plt"
   ]
  },
  {
   "cell_type": "code",
   "execution_count": null,
   "id": "8c8a6b51",
   "metadata": {},
   "outputs": [
    {
     "name": "stdout",
     "output_type": "stream",
     "text": [
      "Loading N:\\NaCsLab\\Data\\20231030\\data_20231030_125545\\data_20231030_125545.mat\n"
     ]
    }
   ],
   "source": [
    "# Example 1: Get Survivals per site, and avg survivals per parameter with no modifications\n",
    "data = NaCsData.NaCsData('20231030', '125545', 'N:\\\\NaCsLab\\\\Data\\\\')\n",
    "\n",
    "load_img = np.array([2])\n",
    "surv_img = np.array([4])\n",
    "\n",
    "survs, surv_errs, unique_params = data.get_survival_prob_by_site(load_img, surv_img)\n",
    "\n",
    "# The returned survs is nparams x nsites\n",
    "nsites = survs.shape[1]\n",
    "nparams = survs.shape[0]\n",
    "\n",
    "# TODO: No support yet for ScanGroup in Python\n",
    "X = unique_params\n",
    "\n",
    "# Plot sites 1 to 5\n",
    "plt.figure()\n",
    "for site in range(5):\n",
    "    plt.errorbar(X, survs[:,site + 1], surv_errs[:, site + 1])"
   ]
  },
  {
   "cell_type": "code",
   "execution_count": null,
   "id": "5260c0da",
   "metadata": {},
   "outputs": [
    {
     "data": {
      "image/png": "[encoded data removed]",
      "text/plain": [
       "<Figure size 640x480 with 1 Axes>"
      ]
     },
     "metadata": {},
     "output_type": "display_data"
    }
   ],
   "source": [
    "# Now we get the average\n",
    "surv_avg, surv_avg_err, unique_params = data.get_survival_prob_avg(load_img, surv_img)\n",
    "plt.figure()\n",
    "plt.errorbar(X, surv_avg, surv_avg_err)\n",
    "plt.show()"
   ]
  },
  {
   "cell_type": "code",
   "execution_count": null,
   "id": "2b6fa826",
   "metadata": {},
   "outputs": [
    {
     "data": {
      "text/plain": [
       "'/'"
      ]
     },
     "execution_count": 11,
     "metadata": {},
     "output_type": "execute_result"
    }
   ],
   "source": [
    "# Example 2: Time bin\n",
    "chr(47)"
   ]
  },
  {
   "cell_type": "code",
   "execution_count": null,
   "id": "5905595a",
   "metadata": {},
   "outputs": [
    {
     "data": {
      "text/plain": [
       "['__class__',\n",
       " '__delattr__',\n",
       " '__dict__',\n",
       " '__dir__',\n",
       " '__doc__',\n",
       " '__eq__',\n",
       " '__firstlineno__',\n",
       " '__format__',\n",
       " '__ge__',\n",
       " '__getattribute__',\n",
       " '__getstate__',\n",
       " '__gt__',\n",
       " '__hash__',\n",
       " '__init__',\n",
       " '__init_subclass__',\n",
       " '__le__',\n",
       " '__lt__',\n",
       " '__module__',\n",
       " '__ne__',\n",
       " '__new__',\n",
       " '__reduce__',\n",
       " '__reduce_ex__',\n",
       " '__repr__',\n",
       " '__setattr__',\n",
       " '__sizeof__',\n",
       " '__static_attributes__',\n",
       " '__str__',\n",
       " '__subclasshook__',\n",
       " '__weakref__',\n",
       " '_get_load_and_surv_logs',\n",
       " 'datasets',\n",
       " 'get_expectation_val',\n",
       " 'get_load_idxs',\n",
       " 'get_logicals',\n",
       " 'get_survival_prob_avg',\n",
       " 'get_survival_prob_by_site',\n",
       " 'n_datasets',\n",
       " 'param_map']"
      ]
     },
     "execution_count": 12,
     "metadata": {},
     "output_type": "execute_result"
    }
   ],
   "source": [
    "dir(data)"
   ]
  },
  {
   "cell_type": "code",
   "execution_count": null,
   "id": "f97648a5",
   "metadata": {},
   "outputs": [
    {
     "data": {
      "text/plain": [
       "<KeysViewHDF5 ['#refs#', 'Analysis', 'Scan']>"
      ]
     },
     "execution_count": 13,
     "metadata": {},
     "output_type": "execute_result"
    }
   ],
   "source": [
    "data.datasets[0].data.keys()"
   ]
  },
  {
   "cell_type": "code",
   "execution_count": null,
   "id": "265baf11",
   "metadata": {},
   "outputs": [
    {
     "data": {
      "text/plain": [
       "<KeysViewHDF5 ['base', 'runparam', 'scans', 'use_var_base', 'use_var_scans', 'version']>"
      ]
     },
     "execution_count": 14,
     "metadata": {},
     "output_type": "execute_result"
    }
   ],
   "source": [
    "data.datasets[0].data[\"Scan/ScanGroup\"].keys()"
   ]
  },
  {
   "cell_type": "code",
   "execution_count": null,
   "id": "01df0b55",
   "metadata": {},
   "outputs": [
    {
     "data": {
      "text/plain": [
       "<KeysViewHDF5 ['CsBlastSLMF3Amp', 'CsBlastSLMF4Amp', 'DoCoolNa', 'DoDetection', 'DoOP', 'PTweezerSLMCsBlast', 'ParamUnits', 'PlotScale', 'bCsBlastSLM', 'bTrapMerge', 'tCsRampSLMTrap', 'tCsRampSLMWait']>"
      ]
     },
     "execution_count": 15,
     "metadata": {},
     "output_type": "execute_result"
    }
   ],
   "source": [
    "data.datasets[0].data[\"Scan/ScanGroup/base/params\"].keys()"
   ]
  },
  {
   "cell_type": "code",
   "execution_count": null,
   "id": "353b6411",
   "metadata": {},
   "outputs": [
    {
     "data": {
      "text/plain": [
       "<KeysViewHDF5 ['CsBlastSLMF3Amp', 'CsBlastSLMF4Amp', 'DoCoolNa', 'DoDetection', 'DoOP', 'PTweezerSLMCsBlast', 'ParamUnits', 'PlotScale', 'bCsBlastSLM', 'bTrapMerge', 'tCsRampSLMTrap', 'tCsRampSLMWait']>"
      ]
     },
     "execution_count": 16,
     "metadata": {},
     "output_type": "execute_result"
    }
   ],
   "source": [
    "data.datasets[0].data[\"Scan/ScanGroup/base/params\"].keys()"
   ]
  },
  {
   "cell_type": "code",
   "execution_count": null,
   "id": "bb056400",
   "metadata": {},
   "outputs": [],
   "source": [
    "import utils\n",
    "import h5py\n",
    "import SingleData\n",
    "import numpy as np"
   ]
  },
  {
   "cell_type": "code",
   "execution_count": null,
   "id": "15ba9c37",
   "metadata": {},
   "outputs": [],
   "source": [
    "fixed_params = utils.cvt_to_dict(data.datasets[0].data, \"Scan/ScanGroup/base/params\")"
   ]
  },
  {
   "cell_type": "code",
   "execution_count": null,
   "id": "a8ba2cc7",
   "metadata": {},
   "outputs": [
    {
     "data": {
      "text/plain": [
       "<HDF5 dataset \"params\": shape (2,), type \"<u8\">"
      ]
     },
     "execution_count": 19,
     "metadata": {},
     "output_type": "execute_result"
    }
   ],
   "source": [
    "data.datasets[0].data[\"Scan/ScanGroup/scans/params\"]"
   ]
  },
  {
   "cell_type": "code",
   "execution_count": null,
   "id": "ae82c76a",
   "metadata": {},
   "outputs": [
    {
     "data": {
      "text/plain": [
       "array([[0.]])"
      ]
     },
     "execution_count": 20,
     "metadata": {},
     "output_type": "execute_result"
    }
   ],
   "source": [
    "fixed_params['CsBlastSLMF3Amp']"
   ]
  },
  {
   "cell_type": "code",
   "execution_count": null,
   "id": "40d0a356",
   "metadata": {},
   "outputs": [
    {
     "data": {
      "text/plain": [
       "{'CsBlastSLMF3Amp': array([[0.]]),\n",
       " 'CsBlastSLMF4Amp': array([[0.]]),\n",
       " 'DoCoolNa': array([[0.]]),\n",
       " 'DoDetection': array([[1.]]),\n",
       " 'DoOP': array([[0.]]),\n",
       " 'PTweezerSLMCsBlast': array([[0.]]),\n",
       " 'ParamUnits': array([0, 0], dtype=uint64),\n",
       " 'PlotScale': array([[1.]]),\n",
       " 'bCsBlastSLM': array([[1.]]),\n",
       " 'bTrapMerge': array([[0.]]),\n",
       " 'tCsRampSLMTrap': array([[0.]]),\n",
       " 'tCsRampSLMWait': array([[0.]])}"
      ]
     },
     "execution_count": 21,
     "metadata": {},
     "output_type": "execute_result"
    }
   ],
   "source": [
    "fixed_params"
   ]
  },
  {
   "cell_type": "code",
   "execution_count": null,
   "id": "81bca165",
   "metadata": {},
   "outputs": [
    {
     "ename": "NameError",
     "evalue": "name 'data' is not defined",
     "output_type": "error",
     "traceback": [
      "\u001b[1;31m---------------------------------------------------------------------------\u001b[0m",
      "\u001b[1;31mNameError\u001b[0m                                 Traceback (most recent call last)",
      "Cell \u001b[1;32mIn[2], line 1\u001b[0m\n\u001b[1;32m----> 1\u001b[0m utils\u001b[38;5;241m.\u001b[39mcvt_to_dict(\u001b[43mdata\u001b[49m\u001b[38;5;241m.\u001b[39mdatasets[\u001b[38;5;241m0\u001b[39m]\u001b[38;5;241m.\u001b[39mdata,\u001b[38;5;124m\"\u001b[39m\u001b[38;5;124m\"\u001b[39m)\n",
      "\u001b[1;31mNameError\u001b[0m: name 'data' is not defined"
     ]
    }
   ],
   "source": [
    "utils.cvt_to_dict(data.datasets[0].data,\"\")"
   ]
  },
  {
   "cell_type": "code",
   "execution_count": null,
   "id": "684252f2",
   "metadata": {},
   "outputs": [
    {
     "data": {
      "text/plain": [
       "<HDF5 dataset \"params\": shape (2, 1), type \"|O\">"
      ]
     },
     "execution_count": 23,
     "metadata": {},
     "output_type": "execute_result"
    }
   ],
   "source": [
    "data.datasets[0].data[\"Scan/ScanGroup/base/vars/params\"]"
   ]
  },
  {
   "cell_type": "code",
   "execution_count": null,
   "id": "6a08c23c",
   "metadata": {},
   "outputs": [
    {
     "data": {
      "text/plain": [
       "<HDF5 object reference>"
      ]
     },
     "execution_count": 24,
     "metadata": {},
     "output_type": "execute_result"
    }
   ],
   "source": [
    "data.datasets[0].data[\"Scan/ScanGroup/base/vars/params\"][0][0]"
   ]
  },
  {
   "cell_type": "code",
   "execution_count": null,
   "id": "cc1f5517",
   "metadata": {},
   "outputs": [
    {
     "data": {
      "text/plain": [
       "'/#refs#/t'"
      ]
     },
     "execution_count": 25,
     "metadata": {},
     "output_type": "execute_result"
    }
   ],
   "source": [
    "name1 = h5py.h5r.get_name(data.datasets[0].data[\"Scan/ScanGroup/base/vars/params\"][0][0], data.datasets[0].data.id).decode()\n",
    "name1"
   ]
  },
  {
   "cell_type": "code",
   "execution_count": null,
   "id": "75b6d098",
   "metadata": {},
   "outputs": [
    {
     "data": {
      "text/plain": [
       "array([[0.e+00, 1.e-05, 2.e-05, 3.e-05, 5.e-05, 1.e-04, 2.e-04]])"
      ]
     },
     "execution_count": 26,
     "metadata": {},
     "output_type": "execute_result"
    }
   ],
   "source": [
    "utils.cvt_multidim_array(data.datasets[0].data, name1 + '/TCsBlastSLM')"
   ]
  },
  {
   "cell_type": "code",
   "execution_count": null,
   "id": "d369e307",
   "metadata": {},
   "outputs": [
    {
     "data": {
      "text/plain": [
       "<h5py.h5f.FileID at 0x264a4b14630>"
      ]
     },
     "execution_count": 27,
     "metadata": {},
     "output_type": "execute_result"
    }
   ],
   "source": [
    "data.datasets[0].data.id"
   ]
  },
  {
   "cell_type": "code",
   "execution_count": null,
   "id": "626effc7",
   "metadata": {},
   "outputs": [
    {
     "data": {
      "text/plain": [
       "<HDF5 dataset \"TCsBlastSLM\": shape (7, 1), type \"<f8\">"
      ]
     },
     "execution_count": 28,
     "metadata": {},
     "output_type": "execute_result"
    }
   ],
   "source": [
    "data.datasets[0].data[name1]['TCsBlastSLM']"
   ]
  },
  {
   "cell_type": "code",
   "execution_count": null,
   "id": "8aa1c7db",
   "metadata": {},
   "outputs": [],
   "source": [
    "name2 = h5py.h5r.get_name(data.datasets[0].data[\"Scan/ScanGroup/base/vars/params\"][1][0], data.datasets[0].data.id).decode()"
   ]
  },
  {
   "cell_type": "code",
   "execution_count": null,
   "id": "cd25edc5",
   "metadata": {},
   "outputs": [
    {
     "data": {
      "text/plain": [
       "array([[0., 1.]])"
      ]
     },
     "execution_count": 30,
     "metadata": {},
     "output_type": "execute_result"
    }
   ],
   "source": [
    "utils.cvt_multidim_array(data.datasets[0].data, name2 + '/DoCoolCs')"
   ]
  },
  {
   "cell_type": "code",
   "execution_count": null,
   "id": "68ec4da3",
   "metadata": {},
   "outputs": [
    {
     "name": "stdout",
     "output_type": "stream",
     "text": [
      "Loading W:\\NaCsRydLab\\Data\\20250206\\data_20250206_184216\\data_20250206_184216.mat\n"
     ]
    },
    {
     "name": "stderr",
     "output_type": "stream",
     "text": [
      "Exception ignored in: <function SingleData.__del__ at 0x0000016DF21AFE20>\n",
      "Traceback (most recent call last):\n",
      "  File \"c:\\Users\\goyan\\projects\\NaCsDataPy\\NaCsDataPy\\SingleData.py\", line 86, in __del__\n",
      "    self.data.close()\n",
      "AttributeError: 'dict' object has no attribute 'close'\n"
     ]
    }
   ],
   "source": [
    "data2 = SingleData.SingleData('20250212', '101956', 'W:\\\\NaCsRydLab\\\\Data\\\\')"
   ]
  },
  {
   "cell_type": "code",
   "execution_count": null,
   "id": "ac65b519",
   "metadata": {},
   "outputs": [],
   "source": [
    "results = data2.data['Scan']['ScanGroup']"
   ]
  },
  {
   "cell_type": "code",
   "execution_count": null,
   "id": "c3222102",
   "metadata": {},
   "outputs": [
    {
     "data": {
      "text/plain": [
       "{'base': {'params': {'DoCoolCs': array(0.),\n",
       "   'DoCoolNa': array(0.),\n",
       "   'DoOP': array(0.),\n",
       "   'Re2DAlg': {'PGrabSLMCs': array(300.), 'PGrabSLMNa': array(20.)},\n",
       "   'bTrapMerge': array(0.),\n",
       "   'bUV': array(0.),\n",
       "   'scanfilename': array([ 77,  79,  84,  83,  99,  97, 110, 115], dtype=uint16),\n",
       "   'scanname': array([77, 79, 84, 68, 49], dtype=uint16)},\n",
       "  'vars': array([0, 0], dtype=uint64)},\n",
       " 'runparam': {'AnalysisScript': array([ 97, 110,  97, 108, 121, 122, 101,  95, 108, 111,  97, 100, 105,\n",
       "         110, 103,  95, 114,  97, 116, 101,  50], dtype=uint16),\n",
       "  'AndorCenter': array([368., 330.]),\n",
       "  'BoxSize': array(4.),\n",
       "  'Cutoffs': [array([29470. , 29055. , 28794. , 30120.5, 29698. , 30065.5, 30354. ,\n",
       "          30399.5, 30976. , 30543. , 30152.5, 30243. , 31219. , 30831.5,\n",
       "          30858.5, 31082. , 31579. , 31326. , 30871.5, 30454.5]),\n",
       "   array([12660. , 11927.6, 13096. , 11995.5, 12507. , 12828. , 12260. ,\n",
       "          11888.5, 12471. , 12510. , 12589. , 13397.5, 12247.5, 12118. ,\n",
       "          12421.5, 12087. , 12340. , 12705. , 13192.5, 12860. ]),\n",
       "   array([29470. , 29055. , 28794. , 30120.5, 29698. , 30065.5, 30354. ,\n",
       "          30399.5, 30976. , 30543. , 30152.5, 30243. , 31219. , 30831.5,\n",
       "          30858.5, 31082. , 31579. , 31326. , 30871.5, 30454.5]),\n",
       "   array([12660. , 11927.6, 13096. , 11995.5, 12507. , 12828. , 12260. ,\n",
       "          11888.5, 12471. , 12510. , 12589. , 13397.5, 12247.5, 12118. ,\n",
       "          12421.5, 12087. , 12340. , 12705. , 13192.5, 12860. ]),\n",
       "   array([-3., -3., -3., -3., -3., -3., -3., -3., -3., -3., -3., -3., -3.,\n",
       "          -3., -3., -3., -3., -3., -3., -3.]),\n",
       "   array([-4., -4., -4., -4., -4., -4., -4., -4., -4., -4., -4., -4., -4.,\n",
       "          -4., -4., -4., -4., -4., -4., -4.]),\n",
       "   array([-3., -3., -3., -3., -3., -3., -3., -3., -3., -3., -3., -3., -3.,\n",
       "          -3., -3., -3., -3., -3., -3., -3.]),\n",
       "   array([-4., -4., -4., -4., -4., -4., -4., -4., -4., -4., -4., -4., -4.,\n",
       "          -4., -4., -4., -4., -4., -4., -4.])],\n",
       "  'FrameSize': array([ 90., 160.]),\n",
       "  'ImgsToSave': array([3., 4., 5., 6., 7., 8.]),\n",
       "  'LoadingIncludedSites': [array([ 1.,  2.,  3.,  4.,  5.,  6.,  7.,  8.,  9., 10., 11., 12., 13.,\n",
       "          14., 15., 16., 17., 18., 19., 20.]),\n",
       "   array([ 1.,  2.,  3.,  4.,  5.,  6.,  7.,  8.,  9., 10., 11., 12., 13.,\n",
       "          14., 15., 16., 17., 18., 19., 20.]),\n",
       "   array([ 1.,  2.,  3.,  4.,  5.,  6.,  7.,  8.,  9., 10., 11., 12., 13.,\n",
       "          14., 15., 16., 17., 18., 19., 20.]),\n",
       "   array([ 1.,  2.,  3.,  4.,  5.,  6.,  7.,  8.,  9., 10., 11., 12., 13.,\n",
       "          14., 15., 16., 17., 18., 19., 20.])],\n",
       "  'LoadingLogicals': [array(3.), array(4.), array(5.), array(6.)],\n",
       "  'NumImages': array(8.),\n",
       "  'NumPerGroup': array(25.),\n",
       "  'NumPerParamAvg': array(1000000.),\n",
       "  'NumSites': array(20.),\n",
       "  'RearrLogicals': [array(3.), array(4.)],\n",
       "  'RearrResult': [array(5.), array(6.)],\n",
       "  'Rearrangement': array(1.),\n",
       "  'SingleAtomSites': [array([[-58.,  10.],\n",
       "          [-58.,  20.],\n",
       "          [-48.,  10.],\n",
       "          [-48.,  20.],\n",
       "          [-38.,  10.],\n",
       "          [-38.,  20.],\n",
       "          [-28.,  10.],\n",
       "          [-28.,  20.],\n",
       "          [-18.,  10.],\n",
       "          [-18.,  20.],\n",
       "          [ -8.,  10.],\n",
       "          [ -8.,  20.],\n",
       "          [  2.,  10.],\n",
       "          [  2.,  20.],\n",
       "          [ 12.,  10.],\n",
       "          [ 12.,  20.],\n",
       "          [ 22.,  10.],\n",
       "          [ 22.,  20.],\n",
       "          [ 32.,  10.],\n",
       "          [ 32.,  20.]]),\n",
       "   array([[-58.,  -6.],\n",
       "          [-58.,   4.],\n",
       "          [-48.,  -6.],\n",
       "          [-48.,   4.],\n",
       "          [-38.,  -6.],\n",
       "          [-38.,   4.],\n",
       "          [-28.,  -6.],\n",
       "          [-28.,   4.],\n",
       "          [-18.,  -6.],\n",
       "          [-18.,   4.],\n",
       "          [ -8.,  -6.],\n",
       "          [ -8.,   4.],\n",
       "          [  2.,  -6.],\n",
       "          [  2.,   4.],\n",
       "          [ 12.,  -6.],\n",
       "          [ 12.,   4.],\n",
       "          [ 22.,  -6.],\n",
       "          [ 22.,   4.],\n",
       "          [ 32.,  -6.],\n",
       "          [ 32.,   4.]]),\n",
       "   array([[-58.,  10.],\n",
       "          [-58.,  20.],\n",
       "          [-48.,  10.],\n",
       "          [-48.,  20.],\n",
       "          [-38.,  10.],\n",
       "          [-38.,  20.],\n",
       "          [-28.,  10.],\n",
       "          [-28.,  20.],\n",
       "          [-18.,  10.],\n",
       "          [-18.,  20.],\n",
       "          [ -8.,  10.],\n",
       "          [ -8.,  20.],\n",
       "          [  2.,  10.],\n",
       "          [  2.,  20.],\n",
       "          [ 12.,  10.],\n",
       "          [ 12.,  20.],\n",
       "          [ 22.,  10.],\n",
       "          [ 22.,  20.],\n",
       "          [ 32.,  10.],\n",
       "          [ 32.,  20.]]),\n",
       "   array([[-58.,  -6.],\n",
       "          [-58.,   4.],\n",
       "          [-48.,  -6.],\n",
       "          [-48.,   4.],\n",
       "          [-38.,  -6.],\n",
       "          [-38.,   4.],\n",
       "          [-28.,  -6.],\n",
       "          [-28.,   4.],\n",
       "          [-18.,  -6.],\n",
       "          [-18.,   4.],\n",
       "          [ -8.,  -6.],\n",
       "          [ -8.,   4.],\n",
       "          [  2.,  -6.],\n",
       "          [  2.,   4.],\n",
       "          [ 12.,  -6.],\n",
       "          [ 12.,   4.],\n",
       "          [ 22.,  -6.],\n",
       "          [ 22.,   4.],\n",
       "          [ 32.,  -6.],\n",
       "          [ 32.,   4.]]),\n",
       "   array([[-58.,  10.],\n",
       "          [-58.,  20.],\n",
       "          [-48.,  10.],\n",
       "          [-48.,  20.],\n",
       "          [-38.,  10.],\n",
       "          [-38.,  20.],\n",
       "          [-28.,  10.],\n",
       "          [-28.,  20.],\n",
       "          [-18.,  10.],\n",
       "          [-18.,  20.],\n",
       "          [ -8.,  10.],\n",
       "          [ -8.,  20.],\n",
       "          [  2.,  10.],\n",
       "          [  2.,  20.],\n",
       "          [ 12.,  10.],\n",
       "          [ 12.,  20.],\n",
       "          [ 22.,  10.],\n",
       "          [ 22.,  20.],\n",
       "          [ 32.,  10.],\n",
       "          [ 32.,  20.]]),\n",
       "   array([[-58.,  -6.],\n",
       "          [-58.,   4.],\n",
       "          [-48.,  -6.],\n",
       "          [-48.,   4.],\n",
       "          [-38.,  -6.],\n",
       "          [-38.,   4.],\n",
       "          [-28.,  -6.],\n",
       "          [-28.,   4.],\n",
       "          [-18.,  -6.],\n",
       "          [-18.,   4.],\n",
       "          [ -8.,  -6.],\n",
       "          [ -8.,   4.],\n",
       "          [  2.,  -6.],\n",
       "          [  2.,   4.],\n",
       "          [ 12.,  -6.],\n",
       "          [ 12.,   4.],\n",
       "          [ 22.,  -6.],\n",
       "          [ 22.,   4.],\n",
       "          [ 32.,  -6.],\n",
       "          [ 32.,   4.]]),\n",
       "   array([[-58.,  10.],\n",
       "          [-58.,  20.],\n",
       "          [-48.,  10.],\n",
       "          [-48.,  20.],\n",
       "          [-38.,  10.],\n",
       "          [-38.,  20.],\n",
       "          [-28.,  10.],\n",
       "          [-28.,  20.],\n",
       "          [-18.,  10.],\n",
       "          [-18.,  20.],\n",
       "          [ -8.,  10.],\n",
       "          [ -8.,  20.],\n",
       "          [  2.,  10.],\n",
       "          [  2.,  20.],\n",
       "          [ 12.,  10.],\n",
       "          [ 12.,  20.],\n",
       "          [ 22.,  10.],\n",
       "          [ 22.,  20.],\n",
       "          [ 32.,  10.],\n",
       "          [ 32.,  20.]]),\n",
       "   array([[-58.,  -6.],\n",
       "          [-58.,   4.],\n",
       "          [-48.,  -6.],\n",
       "          [-48.,   4.],\n",
       "          [-38.,  -6.],\n",
       "          [-38.,   4.],\n",
       "          [-28.,  -6.],\n",
       "          [-28.,   4.],\n",
       "          [-18.,  -6.],\n",
       "          [-18.,   4.],\n",
       "          [ -8.,  -6.],\n",
       "          [ -8.,   4.],\n",
       "          [  2.,  -6.],\n",
       "          [  2.,   4.],\n",
       "          [ 12.,  -6.],\n",
       "          [ 12.,   4.],\n",
       "          [ 22.,  -6.],\n",
       "          [ 22.,   4.],\n",
       "          [ 32.,  -6.],\n",
       "          [ 32.,   4.]])],\n",
       "  'SingleAtomSpecies': [array([78, 97], dtype=uint16),\n",
       "   array([ 67, 115], dtype=uint16),\n",
       "   array([78, 97], dtype=uint16),\n",
       "   array([ 67, 115], dtype=uint16),\n",
       "   array([78, 97], dtype=uint16),\n",
       "   array([ 67, 115], dtype=uint16),\n",
       "   array([78, 97], dtype=uint16),\n",
       "   array([ 67, 115], dtype=uint16)],\n",
       "  'SurvivalIncludedSites': [array([ 1.,  2.,  3.,  4.,  5.,  6.,  7.,  8.,  9., 10., 11., 12., 13.,\n",
       "          14., 15., 16., 17., 18., 19., 20.]),\n",
       "   array([ 1.,  2.,  3.,  4.,  5.,  6.,  7.,  8.,  9., 10., 11., 12., 13.,\n",
       "          14., 15., 16., 17., 18., 19., 20.]),\n",
       "   array([ 1.,  2.,  3.,  4.,  5.,  6.,  7.,  8.,  9., 10., 11., 12., 13.,\n",
       "          14., 15., 16., 17., 18., 19., 20.]),\n",
       "   array([ 1.,  2.,  3.,  4.,  5.,  6.,  7.,  8.,  9., 10., 11., 12., 13.,\n",
       "          14., 15., 16., 17., 18., 19., 20.])],\n",
       "  'SurvivalLoadingLogicals': [array(3.), array(4.), array(5.), array(6.)],\n",
       "  'SurvivalLogicals': [array(5.), array(6.), array(7.), array(8.)],\n",
       "  'actualNumCs': array(20.),\n",
       "  'actualNumNa': array(20.),\n",
       "  'b2Body': array(0.),\n",
       "  'bScramble': array(1.)},\n",
       " 'scans': {'baseidx': [array(0.), array(0.), array(0.)],\n",
       "  'params': [{'Re2DAlg': {'HorzSelectors': array([ 2.,  4.,  6.,  8., 10., 12., 14., 16., 18., 20.])}},\n",
       "   {'Re2DAlg': {'VertScanIdx': array(1.)}},\n",
       "   {'Re2DAlg': {'VertScanIdx': array(2.)}}],\n",
       "  'vars': [{'params': [{'Re2DAlg': {'HorzOffset': array([-200000., -100000.,       0.,  100000.,  200000.])}},\n",
       "     {'Re2DAlg': {'HorzSpacing': array([-50000., -25000.,      0.,  25000.,  50000.])}}],\n",
       "    'size': [array(5.), array(5.)]},\n",
       "   {'params': {'Re2DAlg': {'VertScanFreq': array([72400000., 72600000., 72800000., 73000000., 73200000.])}},\n",
       "    'size': array(5.)},\n",
       "   {'params': {'Re2DAlg': {'VertScanFreq': array([74500000., 74700000., 74900000., 75100000., 75300000.])}},\n",
       "    'size': array(5.)}]},\n",
       " 'use_var_base': {'def': array(0.),\n",
       "  'dims': array([0, 0], dtype=uint64),\n",
       "  'field': array([1, 1], dtype=uint64)},\n",
       " 'use_var_scans': array([0, 0], dtype=uint64),\n",
       " 'version': array(1.)}"
      ]
     },
     "execution_count": 18,
     "metadata": {},
     "output_type": "execute_result"
    }
   ],
   "source": [
    "results"
   ]
  },
  {
   "cell_type": "code",
   "execution_count": null,
   "id": "e217374b",
   "metadata": {},
   "outputs": [
    {
     "data": {
      "text/plain": [
       "array([2, 3])"
      ]
     },
     "execution_count": 6,
     "metadata": {},
     "output_type": "execute_result"
    }
   ],
   "source": [
    "results[2]"
   ]
  },
  {
   "cell_type": "code",
   "execution_count": null,
   "id": "341dab4a",
   "metadata": {},
   "outputs": [
    {
     "name": "stderr",
     "output_type": "stream",
     "text": [
      "C:\\Users\\goyan\\AppData\\Local\\Temp\\ipykernel_36276\\2479200757.py:1: DeprecationWarning: `in1d` is deprecated. Use `np.isin` instead.\n",
      "  np.where(np.in1d(np.array([2,3]), data2.seq_idxs))[0]\n"
     ]
    },
    {
     "data": {
      "text/plain": [
       "array([0, 1])"
      ]
     },
     "execution_count": 9,
     "metadata": {},
     "output_type": "execute_result"
    }
   ],
   "source": [
    "np.where(np.in1d(np.array([2,3]), data2.seq_idxs))[0]"
   ]
  },
  {
   "cell_type": "code",
   "execution_count": null,
   "id": "e894871c",
   "metadata": {},
   "outputs": [
    {
     "data": {
      "text/plain": [
       "{'base': {'params': {'CsBlastSLMF4Amp': array(0.17),\n",
       "   'DoCoolCs': array(0.),\n",
       "   'DoCoolNa': array(0.),\n",
       "   'DoDetection': array(1.),\n",
       "   'DoDetectionNa': array(1.),\n",
       "   'DoOP': array(1.),\n",
       "   'Na': {'Detect': {'Blast': {'F2Amp': array(0.3), 'T': array(1.e-06)}}},\n",
       "   'PTweezerSLMCsBlast': array(600.),\n",
       "   'bCsBlast1': array(0.),\n",
       "   'bCsBlastSLM': array(1.),\n",
       "   'bTrapMerge': array(0.),\n",
       "   'scanfilename': array([ 78,  97,  67, 115,  83,  99,  97, 110, 115], dtype=uint16),\n",
       "   'scanname': array([ 66, 108,  97, 115, 116,  68, 101, 116,  83,  76,  77],\n",
       "         dtype=uint16)},\n",
       "  'vars': {'params': {'DetCsBlastSLM': array([13000000., 13900000., 14800000., 15700000., 16600000., 17500000.,\n",
       "           18400000., 19300000., 20200000., 21100000., 22000000.])},\n",
       "   'size': array(11.)}},\n",
       " 'runparam': {'AnalysisScript': array([ 97, 110,  97, 108, 121, 122, 101,  95, 116, 114,  97, 112,  95,\n",
       "         100, 101, 112, 116, 104,  95, 112, 101, 114,  95, 115, 105, 116,\n",
       "         101], dtype=uint16),\n",
       "  'AndorCenter': array([368., 330.]),\n",
       "  'BoxSize': array(4.),\n",
       "  'Cutoffs': [array([0., 0., 0., 0., 0., 0., 0., 0., 0., 0., 0., 0., 0., 0., 0., 0., 0.,\n",
       "          0., 0., 0., 0., 0., 0., 0., 0., 0., 0., 0., 0., 0., 0., 0., 0., 0.,\n",
       "          0., 0., 0., 0., 0., 0.]),\n",
       "   array([0., 0., 0., 0., 0., 0., 0., 0., 0., 0., 0., 0., 0., 0., 0., 0., 0.,\n",
       "          0., 0., 0., 0., 0., 0., 0., 0., 0., 0., 0., 0., 0., 0., 0., 0., 0.,\n",
       "          0., 0., 0., 0., 0., 0.]),\n",
       "   array([-1., -1., -1., -1., -1., -1., -1., -1., -1., -1., -1., -1., -1.,\n",
       "          -1., -1., -1., -1., -1., -1., -1., -1., -1., -1., -1., -1., -1.,\n",
       "          -1., -1., -1., -1., -1., -1., -1., -1., -1., -1., -1., -1., -1.,\n",
       "          -1.]),\n",
       "   array([-2., -2., -2., -2., -2., -2., -2., -2., -2., -2., -2., -2., -2.,\n",
       "          -2., -2., -2., -2., -2., -2., -2., -2., -2., -2., -2., -2., -2.,\n",
       "          -2., -2., -2., -2., -2., -2., -2., -2., -2., -2., -2., -2., -2.,\n",
       "          -2.])],\n",
       "  'FrameSize': array([110., 160.]),\n",
       "  'ImgsToSave': array([1., 2., 3., 4.]),\n",
       "  'LoadingIncludedSites': [array([ 1.,  2.,  3.,  4.,  5.,  6.,  7.,  8.,  9., 10., 11., 12., 13.,\n",
       "          14., 15., 16., 17., 18., 19., 20., 21., 22., 23., 24., 25., 26.,\n",
       "          27., 28., 29., 30., 31., 32., 33., 34., 35., 36., 37., 38., 39.,\n",
       "          40.]),\n",
       "   array([ 1.,  2.,  3.,  4.,  5.,  6.,  7.,  8.,  9., 10., 11., 12., 13.,\n",
       "          14., 15., 16., 17., 18., 19., 20., 21., 22., 23., 24., 25., 26.,\n",
       "          27., 28., 29., 30., 31., 32., 33., 34., 35., 36., 37., 38., 39.,\n",
       "          40.])],\n",
       "  'LoadingLogicals': [array(1.), array(2.)],\n",
       "  'NumImages': array(4.),\n",
       "  'NumPerGroup': array(25.),\n",
       "  'NumPerParamAvg': array(1000000.),\n",
       "  'NumSites': array(40.),\n",
       "  'RearrLogicals': array(3.),\n",
       "  'RearrResult': array(5.),\n",
       "  'Rearrangement': array(0.),\n",
       "  'SingleAtomSites': [array([[-58.,  11.],\n",
       "          [-58.,  19.],\n",
       "          [-58.,  25.],\n",
       "          [-58.,  33.],\n",
       "          [-48.,  11.],\n",
       "          [-48.,  19.],\n",
       "          [-48.,  25.],\n",
       "          [-48.,  33.],\n",
       "          [-38.,  11.],\n",
       "          [-38.,  19.],\n",
       "          [-38.,  25.],\n",
       "          [-38.,  33.],\n",
       "          [-28.,  11.],\n",
       "          [-28.,  19.],\n",
       "          [-28.,  25.],\n",
       "          [-28.,  33.],\n",
       "          [-18.,  11.],\n",
       "          [-18.,  19.],\n",
       "          [-18.,  25.],\n",
       "          [-18.,  33.],\n",
       "          [ -8.,  11.],\n",
       "          [ -8.,  19.],\n",
       "          [ -8.,  25.],\n",
       "          [ -8.,  33.],\n",
       "          [  2.,  11.],\n",
       "          [  2.,  19.],\n",
       "          [  2.,  25.],\n",
       "          [  2.,  33.],\n",
       "          [ 12.,  11.],\n",
       "          [ 12.,  19.],\n",
       "          [ 12.,  25.],\n",
       "          [ 12.,  33.],\n",
       "          [ 22.,  11.],\n",
       "          [ 22.,  19.],\n",
       "          [ 22.,  25.],\n",
       "          [ 22.,  33.],\n",
       "          [ 32.,  11.],\n",
       "          [ 32.,  19.],\n",
       "          [ 32.,  25.],\n",
       "          [ 32.,  33.]]),\n",
       "   array([[-58., -19.],\n",
       "          [-58., -11.],\n",
       "          [-58.,  -5.],\n",
       "          [-58.,   3.],\n",
       "          [-48., -19.],\n",
       "          [-48., -11.],\n",
       "          [-48.,  -5.],\n",
       "          [-48.,   3.],\n",
       "          [-38., -19.],\n",
       "          [-38., -11.],\n",
       "          [-38.,  -5.],\n",
       "          [-38.,   3.],\n",
       "          [-28., -19.],\n",
       "          [-28., -11.],\n",
       "          [-28.,  -5.],\n",
       "          [-28.,   3.],\n",
       "          [-18., -19.],\n",
       "          [-18., -11.],\n",
       "          [-18.,  -5.],\n",
       "          [-18.,   3.],\n",
       "          [ -8., -19.],\n",
       "          [ -8., -11.],\n",
       "          [ -8.,  -5.],\n",
       "          [ -8.,   3.],\n",
       "          [  2., -19.],\n",
       "          [  2., -11.],\n",
       "          [  2.,  -5.],\n",
       "          [  2.,   3.],\n",
       "          [ 12., -19.],\n",
       "          [ 12., -11.],\n",
       "          [ 12.,  -5.],\n",
       "          [ 12.,   3.],\n",
       "          [ 22., -19.],\n",
       "          [ 22., -11.],\n",
       "          [ 22.,  -5.],\n",
       "          [ 22.,   3.],\n",
       "          [ 32., -19.],\n",
       "          [ 32., -11.],\n",
       "          [ 32.,  -5.],\n",
       "          [ 32.,   3.]]),\n",
       "   array([[-58.,  11.],\n",
       "          [-58.,  19.],\n",
       "          [-58.,  25.],\n",
       "          [-58.,  33.],\n",
       "          [-48.,  11.],\n",
       "          [-48.,  19.],\n",
       "          [-48.,  25.],\n",
       "          [-48.,  33.],\n",
       "          [-38.,  11.],\n",
       "          [-38.,  19.],\n",
       "          [-38.,  25.],\n",
       "          [-38.,  33.],\n",
       "          [-28.,  11.],\n",
       "          [-28.,  19.],\n",
       "          [-28.,  25.],\n",
       "          [-28.,  33.],\n",
       "          [-18.,  11.],\n",
       "          [-18.,  19.],\n",
       "          [-18.,  25.],\n",
       "          [-18.,  33.],\n",
       "          [ -8.,  11.],\n",
       "          [ -8.,  19.],\n",
       "          [ -8.,  25.],\n",
       "          [ -8.,  33.],\n",
       "          [  2.,  11.],\n",
       "          [  2.,  19.],\n",
       "          [  2.,  25.],\n",
       "          [  2.,  33.],\n",
       "          [ 12.,  11.],\n",
       "          [ 12.,  19.],\n",
       "          [ 12.,  25.],\n",
       "          [ 12.,  33.],\n",
       "          [ 22.,  11.],\n",
       "          [ 22.,  19.],\n",
       "          [ 22.,  25.],\n",
       "          [ 22.,  33.],\n",
       "          [ 32.,  11.],\n",
       "          [ 32.,  19.],\n",
       "          [ 32.,  25.],\n",
       "          [ 32.,  33.]]),\n",
       "   array([[-58., -19.],\n",
       "          [-58., -11.],\n",
       "          [-58.,  -5.],\n",
       "          [-58.,   3.],\n",
       "          [-48., -19.],\n",
       "          [-48., -11.],\n",
       "          [-48.,  -5.],\n",
       "          [-48.,   3.],\n",
       "          [-38., -19.],\n",
       "          [-38., -11.],\n",
       "          [-38.,  -5.],\n",
       "          [-38.,   3.],\n",
       "          [-28., -19.],\n",
       "          [-28., -11.],\n",
       "          [-28.,  -5.],\n",
       "          [-28.,   3.],\n",
       "          [-18., -19.],\n",
       "          [-18., -11.],\n",
       "          [-18.,  -5.],\n",
       "          [-18.,   3.],\n",
       "          [ -8., -19.],\n",
       "          [ -8., -11.],\n",
       "          [ -8.,  -5.],\n",
       "          [ -8.,   3.],\n",
       "          [  2., -19.],\n",
       "          [  2., -11.],\n",
       "          [  2.,  -5.],\n",
       "          [  2.,   3.],\n",
       "          [ 12., -19.],\n",
       "          [ 12., -11.],\n",
       "          [ 12.,  -5.],\n",
       "          [ 12.,   3.],\n",
       "          [ 22., -19.],\n",
       "          [ 22., -11.],\n",
       "          [ 22.,  -5.],\n",
       "          [ 22.,   3.],\n",
       "          [ 32., -19.],\n",
       "          [ 32., -11.],\n",
       "          [ 32.,  -5.],\n",
       "          [ 32.,   3.]])],\n",
       "  'SingleAtomSpecies': [array([78, 97], dtype=uint16),\n",
       "   array([ 67, 115], dtype=uint16),\n",
       "   array([78, 97], dtype=uint16),\n",
       "   array([ 67, 115], dtype=uint16)],\n",
       "  'SurvivalIncludedSites': [array([ 1.,  2.,  3.,  4.,  5.,  6.,  7.,  8.,  9., 10., 11., 12., 13.,\n",
       "          14., 15., 16., 17., 18., 19., 20., 21., 22., 23., 24., 25., 26.,\n",
       "          27., 28., 29., 30., 31., 32., 33., 34., 35., 36., 37., 38., 39.,\n",
       "          40.]),\n",
       "   array([ 1.,  2.,  3.,  4.,  5.,  6.,  7.,  8.,  9., 10., 11., 12., 13.,\n",
       "          14., 15., 16., 17., 18., 19., 20., 21., 22., 23., 24., 25., 26.,\n",
       "          27., 28., 29., 30., 31., 32., 33., 34., 35., 36., 37., 38., 39.,\n",
       "          40.])],\n",
       "  'SurvivalLoadingLogicals': [array(1.), array(2.)],\n",
       "  'SurvivalLogicals': [array(3.), array(4.)],\n",
       "  'actualNumCs': array(40.),\n",
       "  'actualNumNa': array(40.),\n",
       "  'b2Body': array(0.)},\n",
       " 'scans': {'baseidx': array(0.),\n",
       "  'params': array([1, 1], dtype=uint64),\n",
       "  'vars': array([0, 0], dtype=uint64)},\n",
       " 'use_var_base': {'def': array(0.),\n",
       "  'dims': array([0, 0], dtype=uint64),\n",
       "  'field': array([1, 1], dtype=uint64)},\n",
       " 'use_var_scans': array([0, 0], dtype=uint64),\n",
       " 'version': array(1.)}"
      ]
     },
     "execution_count": 10,
     "metadata": {},
     "output_type": "execute_result"
    }
   ],
   "source": [
    "data2.data['Scan']['ScanGroup']"
   ]
  },
  {
   "cell_type": "code",
   "execution_count": null,
   "id": "16b0a1ea",
   "metadata": {},
   "outputs": [
    {
     "data": {
      "text/plain": [
       "array(4.)"
      ]
     },
     "execution_count": 8,
     "metadata": {},
     "output_type": "execute_result"
    }
   ],
   "source": [
    "datadict['Scan']['version']"
   ]
  },
  {
   "cell_type": "code",
   "execution_count": null,
   "id": "757711df",
   "metadata": {},
   "outputs": [],
   "source": [
    "dict2 = utils.cvt_to_dict(data2.data)"
   ]
  },
  {
   "cell_type": "code",
   "execution_count": null,
   "id": "9fbb7265",
   "metadata": {},
   "outputs": [
    {
     "data": {
      "text/plain": [
       "np.float64(9.0)"
      ]
     },
     "execution_count": 18,
     "metadata": {},
     "output_type": "execute_result"
    }
   ],
   "source": [
    "dict2['Scan']['NumImages'] + 1"
   ]
  },
  {
   "cell_type": "code",
   "execution_count": null,
   "id": "10d79375",
   "metadata": {},
   "outputs": [
    {
     "ename": "NameError",
     "evalue": "name 'temp' is not defined",
     "output_type": "error",
     "traceback": [
      "\u001b[1;31m---------------------------------------------------------------------------\u001b[0m",
      "\u001b[1;31mNameError\u001b[0m                                 Traceback (most recent call last)",
      "Cell \u001b[1;32mIn[7], line 2\u001b[0m\n\u001b[0;32m      1\u001b[0m \u001b[38;5;28;01mimport\u001b[39;00m \u001b[38;5;21;01mnumpy\u001b[39;00m \u001b[38;5;28;01mas\u001b[39;00m \u001b[38;5;21;01mnp\u001b[39;00m\n\u001b[1;32m----> 2\u001b[0m \u001b[38;5;28;01mwith\u001b[39;00m np\u001b[38;5;241m.\u001b[39mnditer(\u001b[43mtemp\u001b[49m, flags\u001b[38;5;241m=\u001b[39m[\u001b[38;5;124m'\u001b[39m\u001b[38;5;124mrefs_ok\u001b[39m\u001b[38;5;124m'\u001b[39m], op_flags\u001b[38;5;241m=\u001b[39m[\u001b[38;5;124m'\u001b[39m\u001b[38;5;124mreadwrite\u001b[39m\u001b[38;5;124m'\u001b[39m]) \u001b[38;5;28;01mas\u001b[39;00m it:\n\u001b[0;32m      3\u001b[0m     \u001b[38;5;28;01mfor\u001b[39;00m this_item \u001b[38;5;129;01min\u001b[39;00m it:\n\u001b[0;32m      4\u001b[0m         \u001b[38;5;28;01mif\u001b[39;00m \u001b[38;5;28misinstance\u001b[39m(this_item\u001b[38;5;241m.\u001b[39mitem(), h5py\u001b[38;5;241m.\u001b[39mh5r\u001b[38;5;241m.\u001b[39mReference):\n",
      "\u001b[1;31mNameError\u001b[0m: name 'temp' is not defined"
     ]
    }
   ],
   "source": [
    "import numpy as np\n",
    "with np.nditer(temp, flags=['refs_ok'], op_flags=['readwrite']) as it:\n",
    "    for this_item in it:\n",
    "        if isinstance(this_item.item(), h5py.h5r.Reference):\n",
    "            this_item[...] = file[h5py.h5r.get_name(this_item.item(), file.id)][()]"
   ]
  },
  {
   "cell_type": "code",
   "execution_count": null,
   "id": "7bc699fe",
   "metadata": {},
   "outputs": [
    {
     "data": {
      "text/plain": [
       "True"
      ]
     },
     "execution_count": 11,
     "metadata": {},
     "output_type": "execute_result"
    }
   ],
   "source": [
    "isinstance(dict2['Cutoffs'][0],h5py.h5r.Reference)"
   ]
  },
  {
   "cell_type": "code",
   "execution_count": null,
   "id": "c4324dad",
   "metadata": {},
   "outputs": [],
   "source": [
    "import numpy as np\n",
    "a = np.array([[1,2,3], [2,3,4]])"
   ]
  },
  {
   "cell_type": "code",
   "execution_count": null,
   "id": "9d855e3e",
   "metadata": {},
   "outputs": [
    {
     "name": "stdout",
     "output_type": "stream",
     "text": [
      "(0, array(1))\n",
      "(1, array(2))\n",
      "(2, array(3))\n",
      "(3, array(2))\n",
      "(4, array(3))\n",
      "(5, array(4))\n"
     ]
    }
   ],
   "source": [
    "for idx, item in enumerate(np.nditer(a)):\n",
    "    print((idx, item))"
   ]
  },
  {
   "cell_type": "code",
   "execution_count": null,
   "id": "d60c77f6",
   "metadata": {},
   "outputs": [],
   "source": [
    "with np.nditer(a, op_flags=['readwrite']) as it:\n",
    "    for item in it:\n",
    "        item[...] *= 2  # Modify element in-place"
   ]
  },
  {
   "cell_type": "code",
   "execution_count": null,
   "id": "b298f63d",
   "metadata": {},
   "outputs": [
    {
     "data": {
      "text/plain": [
       "array([[2, 4, 6],\n",
       "       [4, 6, 8]])"
      ]
     },
     "execution_count": 20,
     "metadata": {},
     "output_type": "execute_result"
    }
   ],
   "source": [
    "a"
   ]
  },
  {
   "cell_type": "code",
   "execution_count": null,
   "id": "9bc47227",
   "metadata": {},
   "outputs": [],
   "source": [
    "dict2 = utils.cvt_to_dict(data2.data, \"Scan\")"
   ]
  },
  {
   "cell_type": "code",
   "execution_count": null,
   "id": "f8eafd16",
   "metadata": {},
   "outputs": [
    {
     "data": {
      "text/plain": [
       "<KeysViewHDF5 ['base', 'runparam', 'scans', 'use_var_base', 'use_var_scans', 'version']>"
      ]
     },
     "execution_count": 4,
     "metadata": {},
     "output_type": "execute_result"
    }
   ],
   "source": [
    "data2.data['Scan/ScanGroup'].keys()"
   ]
  },
  {
   "cell_type": "code",
   "execution_count": null,
   "id": "5b9c55a6",
   "metadata": {},
   "outputs": [
    {
     "data": {
      "text/plain": [
       "{'AndorCenter': array([368., 330.]),\n",
       " 'BoxSize': array(4.),\n",
       " 'CsSLMConfig': array([0, 0], dtype=uint64),\n",
       " 'Cutoffs': [array([29470. , 29055. , 28794. , 30120.5, 29698. , 30065.5, 30354. ,\n",
       "         30399.5, 30976. , 30543. , 30152.5, 30243. , 31219. , 30831.5,\n",
       "         30858.5, 31082. , 31579. , 31326. , 30871.5, 30454.5]),\n",
       "  array([12660. , 11927.6, 13096. , 11995.5, 12507. , 12828. , 12260. ,\n",
       "         11888.5, 12471. , 12510. , 12589. , 13397.5, 12247.5, 12118. ,\n",
       "         12421.5, 12087. , 12340. , 12705. , 13192.5, 12860. ]),\n",
       "  array([29470. , 29055. , 28794. , 30120.5, 29698. , 30065.5, 30354. ,\n",
       "         30399.5, 30976. , 30543. , 30152.5, 30243. , 31219. , 30831.5,\n",
       "         30858.5, 31082. , 31579. , 31326. , 30871.5, 30454.5]),\n",
       "  array([12660. , 11927.6, 13096. , 11995.5, 12507. , 12828. , 12260. ,\n",
       "         11888.5, 12471. , 12510. , 12589. , 13397.5, 12247.5, 12118. ,\n",
       "         12421.5, 12087. , 12340. , 12705. , 13192.5, 12860. ]),\n",
       "  array([-3., -3., -3., -3., -3., -3., -3., -3., -3., -3., -3., -3., -3.,\n",
       "         -3., -3., -3., -3., -3., -3., -3.]),\n",
       "  array([-4., -4., -4., -4., -4., -4., -4., -4., -4., -4., -4., -4., -4.,\n",
       "         -4., -4., -4., -4., -4., -4., -4.]),\n",
       "  array([-3., -3., -3., -3., -3., -3., -3., -3., -3., -3., -3., -3., -3.,\n",
       "         -3., -3., -3., -3., -3., -3., -3.]),\n",
       "  array([-4., -4., -4., -4., -4., -4., -4., -4., -4., -4., -4., -4., -4.,\n",
       "         -4., -4., -4., -4., -4., -4., -4.])],\n",
       " 'FitType': array([110, 111, 110, 101], dtype=uint16),\n",
       " 'FrameSize': array([ 90., 160.]),\n",
       " 'ImgsToSave': array([3., 4., 5., 6., 7., 8.]),\n",
       " 'LoadingIncludedSites': [array([ 1.,  2.,  3.,  4.,  5.,  6.,  7.,  8.,  9., 10., 11., 12., 13.,\n",
       "         14., 15., 16., 17., 18., 19., 20.]),\n",
       "  array([ 1.,  2.,  3.,  4.,  5.,  6.,  7.,  8.,  9., 10., 11., 12., 13.,\n",
       "         14., 15., 16., 17., 18., 19., 20.]),\n",
       "  array([ 1.,  2.,  3.,  4.,  5.,  6.,  7.,  8.,  9., 10., 11., 12., 13.,\n",
       "         14., 15., 16., 17., 18., 19., 20.]),\n",
       "  array([ 1.,  2.,  3.,  4.,  5.,  6.,  7.,  8.,  9., 10., 11., 12., 13.,\n",
       "         14., 15., 16., 17., 18., 19., 20.])],\n",
       " 'LoadingLogicals': [array(3.), array(4.), array(5.), array(6.)],\n",
       " 'NaSLMConfig': array([0, 0], dtype=uint64),\n",
       " 'NumImages': array(8.),\n",
       " 'NumPerGroup': array(70.),\n",
       " 'NumPerParamAvg': array(1000000.),\n",
       " 'NumSites': array(20.),\n",
       " 'ParamName': array([ 82, 101,  50,  68,  65, 108, 103,  46,  72, 111, 114, 122,  79,\n",
       "        102, 102, 115, 101, 116], dtype=uint16),\n",
       " 'ParamUnits': array([0, 0], dtype=uint64),\n",
       " 'Params': array([ 1., 22.,  5., 12., 23., 11., 21.,  3., 28.,  8.,  3., 18., 14.,\n",
       "         2., 27., 32., 16., 25., 27., 20., 18.,  5., 16., 20., 30., 24.,\n",
       "         7., 26., 10.,  6., 34., 14., 29., 31., 17.,  1., 15., 34., 33.,\n",
       "         9., 35., 23., 13., 28., 11., 15., 13.,  4., 33., 32., 26., 17.,\n",
       "        12., 30.,  7., 21.,  6., 22.,  8.,  2.,  4., 35., 29., 19., 19.,\n",
       "        10., 24., 25.,  9., 31.]),\n",
       " 'PlotScale': array(1.),\n",
       " 'Rearr': {'Algo': array([ 82, 101,  97, 114, 114,  97, 110, 103, 101, 109, 101, 110, 116,\n",
       "          79, 110,  71, 114, 105, 100,  68, 117,  97, 108], dtype=uint16),\n",
       "  'AlgoCbArgs': [array([3., 4.]),\n",
       "   array([1., 0.]),\n",
       "   [array([[-58., -58., -48., -48., -38., -38., -28., -28., -18., -18.,  -8.,\n",
       "             -8.,   2.,   2.,  12.,  12.,  22.,  22.,  32.,  32.],\n",
       "           [ 10.,  20.,  10.,  20.,  10.,  20.,  10.,  20.,  10.,  20.,  10.,\n",
       "             20.,  10.,  20.,  10.,  20.,  10.,  20.,  10.,  20.]]),\n",
       "    array([[-58., -58., -48., -48., -38., -38., -28., -28., -18., -18.,  -8.,\n",
       "             -8.,   2.,   2.,  12.,  12.,  22.,  22.,  32.,  32.],\n",
       "           [ -6.,   4.,  -6.,   4.,  -6.,   4.,  -6.,   4.,  -6.,   4.,  -6.,\n",
       "              4.,  -6.,   4.,  -6.,   4.,  -6.,   4.,  -6.,   4.]])],\n",
       "   [array([ 2., 10.]), array([ 2., 10.])],\n",
       "   [array([1., 1., 1., 1., 1., 1., 1., 1., 1., 1.]),\n",
       "    array([1., 1., 1., 1., 1., 1., 1., 1., 1., 1.])],\n",
       "   [array([29470. , 29055. , 28794. , 30120.5, 29698. , 30065.5, 30354. ,\n",
       "           30399.5, 30976. , 30543. , 30152.5, 30243. , 31219. , 30831.5,\n",
       "           30858.5, 31082. , 31579. , 31326. , 30871.5, 30454.5]),\n",
       "    array([12660. , 11927.6, 13096. , 11995.5, 12507. , 12828. , 12260. ,\n",
       "           11888.5, 12471. , 12510. , 12589. , 13397.5, 12247.5, 12118. ,\n",
       "           12421.5, 12087. , 12340. , 12705. , 13192.5, 12860. ])],\n",
       "   array([ 67, 115,  86, 101, 114, 116,  65,  79,  68], dtype=uint16),\n",
       "   array([65, 87, 71, 49, 47, 79, 85, 84, 48], dtype=uint16),\n",
       "   array([1., 2.]),\n",
       "   array([ 2.,  4.,  6.,  8., 10., 12., 14., 16., 18., 20.]),\n",
       "   array([4., 3.]),\n",
       "   array([ 1.,  3.,  5.,  7.,  9., 11., 13., 15., 17., 19.])],\n",
       "  'cutoffs': [array([29470. , 29055. , 28794. , 30120.5, 29698. , 30065.5, 30354. ,\n",
       "          30399.5, 30976. , 30543. , 30152.5, 30243. , 31219. , 30831.5,\n",
       "          30858.5, 31082. , 31579. , 31326. , 30871.5, 30454.5]),\n",
       "   array([12660. , 11927.6, 13096. , 11995.5, 12507. , 12828. , 12260. ,\n",
       "          11888.5, 12471. , 12510. , 12589. , 13397.5, 12247.5, 12118. ,\n",
       "          12421.5, 12087. , 12340. , 12705. , 13192.5, 12860. ])],\n",
       "  'imgForCutoff': array(4.),\n",
       "  'locs': [array([[-58., -58., -48., -48., -38., -38., -28., -28., -18., -18.,  -8.,\n",
       "            -8.,   2.,   2.,  12.,  12.,  22.,  22.,  32.,  32.],\n",
       "          [ 10.,  20.,  10.,  20.,  10.,  20.,  10.,  20.,  10.,  20.,  10.,\n",
       "            20.,  10.,  20.,  10.,  20.,  10.,  20.,  10.,  20.]]),\n",
       "   array([[-58., -58., -48., -48., -38., -38., -28., -28., -18., -18.,  -8.,\n",
       "            -8.,   2.,   2.,  12.,  12.,  22.,  22.,  32.,  32.],\n",
       "          [ -6.,   4.,  -6.,   4.,  -6.,   4.,  -6.,   4.,  -6.,   4.,  -6.,\n",
       "             4.,  -6.,   4.,  -6.,   4.,  -6.,   4.,  -6.,   4.]])]},\n",
       " 'RearrLogicals': [array(3.), array(4.)],\n",
       " 'RearrResult': [array(5.), array(6.)],\n",
       " 'Rearrangement': array(1.),\n",
       " 'ScanGroup': {'base': {'params': {'DoCoolCs': array(0.),\n",
       "    'DoCoolNa': array(0.),\n",
       "    'DoOP': array(0.),\n",
       "    'Re2DAlg': {'PGrabSLMCs': array(300.), 'PGrabSLMNa': array(20.)},\n",
       "    'bTrapMerge': array(0.),\n",
       "    'bUV': array(0.),\n",
       "    'scanfilename': array([ 77,  79,  84,  83,  99,  97, 110, 115], dtype=uint16),\n",
       "    'scanname': array([77, 79, 84, 68, 49], dtype=uint16)},\n",
       "   'vars': array([0, 0], dtype=uint64)},\n",
       "  'runparam': {'AnalysisScript': array([ 97, 110,  97, 108, 121, 122, 101,  95, 108, 111,  97, 100, 105,\n",
       "          110, 103,  95, 114,  97, 116, 101,  50], dtype=uint16),\n",
       "   'AndorCenter': array([368., 330.]),\n",
       "   'BoxSize': array(4.),\n",
       "   'Cutoffs': [array([29470. , 29055. , 28794. , 30120.5, 29698. , 30065.5, 30354. ,\n",
       "           30399.5, 30976. , 30543. , 30152.5, 30243. , 31219. , 30831.5,\n",
       "           30858.5, 31082. , 31579. , 31326. , 30871.5, 30454.5]),\n",
       "    array([12660. , 11927.6, 13096. , 11995.5, 12507. , 12828. , 12260. ,\n",
       "           11888.5, 12471. , 12510. , 12589. , 13397.5, 12247.5, 12118. ,\n",
       "           12421.5, 12087. , 12340. , 12705. , 13192.5, 12860. ]),\n",
       "    array([29470. , 29055. , 28794. , 30120.5, 29698. , 30065.5, 30354. ,\n",
       "           30399.5, 30976. , 30543. , 30152.5, 30243. , 31219. , 30831.5,\n",
       "           30858.5, 31082. , 31579. , 31326. , 30871.5, 30454.5]),\n",
       "    array([12660. , 11927.6, 13096. , 11995.5, 12507. , 12828. , 12260. ,\n",
       "           11888.5, 12471. , 12510. , 12589. , 13397.5, 12247.5, 12118. ,\n",
       "           12421.5, 12087. , 12340. , 12705. , 13192.5, 12860. ]),\n",
       "    array([-3., -3., -3., -3., -3., -3., -3., -3., -3., -3., -3., -3., -3.,\n",
       "           -3., -3., -3., -3., -3., -3., -3.]),\n",
       "    array([-4., -4., -4., -4., -4., -4., -4., -4., -4., -4., -4., -4., -4.,\n",
       "           -4., -4., -4., -4., -4., -4., -4.]),\n",
       "    array([-3., -3., -3., -3., -3., -3., -3., -3., -3., -3., -3., -3., -3.,\n",
       "           -3., -3., -3., -3., -3., -3., -3.]),\n",
       "    array([-4., -4., -4., -4., -4., -4., -4., -4., -4., -4., -4., -4., -4.,\n",
       "           -4., -4., -4., -4., -4., -4., -4.])],\n",
       "   'FrameSize': array([ 90., 160.]),\n",
       "   'ImgsToSave': array([3., 4., 5., 6., 7., 8.]),\n",
       "   'LoadingIncludedSites': [array([ 1.,  2.,  3.,  4.,  5.,  6.,  7.,  8.,  9., 10., 11., 12., 13.,\n",
       "           14., 15., 16., 17., 18., 19., 20.]),\n",
       "    array([ 1.,  2.,  3.,  4.,  5.,  6.,  7.,  8.,  9., 10., 11., 12., 13.,\n",
       "           14., 15., 16., 17., 18., 19., 20.]),\n",
       "    array([ 1.,  2.,  3.,  4.,  5.,  6.,  7.,  8.,  9., 10., 11., 12., 13.,\n",
       "           14., 15., 16., 17., 18., 19., 20.]),\n",
       "    array([ 1.,  2.,  3.,  4.,  5.,  6.,  7.,  8.,  9., 10., 11., 12., 13.,\n",
       "           14., 15., 16., 17., 18., 19., 20.])],\n",
       "   'LoadingLogicals': [array(3.), array(4.), array(5.), array(6.)],\n",
       "   'NumImages': array(8.),\n",
       "   'NumPerGroup': array(25.),\n",
       "   'NumPerParamAvg': array(1000000.),\n",
       "   'NumSites': array(20.),\n",
       "   'RearrLogicals': [array(3.), array(4.)],\n",
       "   'RearrResult': [array(5.), array(6.)],\n",
       "   'Rearrangement': array(1.),\n",
       "   'SingleAtomSites': [array([[-58., -58., -48., -48., -38., -38., -28., -28., -18., -18.,  -8.,\n",
       "             -8.,   2.,   2.,  12.,  12.,  22.,  22.,  32.,  32.],\n",
       "           [ 10.,  20.,  10.,  20.,  10.,  20.,  10.,  20.,  10.,  20.,  10.,\n",
       "             20.,  10.,  20.,  10.,  20.,  10.,  20.,  10.,  20.]]),\n",
       "    array([[-58., -58., -48., -48., -38., -38., -28., -28., -18., -18.,  -8.,\n",
       "             -8.,   2.,   2.,  12.,  12.,  22.,  22.,  32.,  32.],\n",
       "           [ -6.,   4.,  -6.,   4.,  -6.,   4.,  -6.,   4.,  -6.,   4.,  -6.,\n",
       "              4.,  -6.,   4.,  -6.,   4.,  -6.,   4.,  -6.,   4.]]),\n",
       "    array([[-58., -58., -48., -48., -38., -38., -28., -28., -18., -18.,  -8.,\n",
       "             -8.,   2.,   2.,  12.,  12.,  22.,  22.,  32.,  32.],\n",
       "           [ 10.,  20.,  10.,  20.,  10.,  20.,  10.,  20.,  10.,  20.,  10.,\n",
       "             20.,  10.,  20.,  10.,  20.,  10.,  20.,  10.,  20.]]),\n",
       "    array([[-58., -58., -48., -48., -38., -38., -28., -28., -18., -18.,  -8.,\n",
       "             -8.,   2.,   2.,  12.,  12.,  22.,  22.,  32.,  32.],\n",
       "           [ -6.,   4.,  -6.,   4.,  -6.,   4.,  -6.,   4.,  -6.,   4.,  -6.,\n",
       "              4.,  -6.,   4.,  -6.,   4.,  -6.,   4.,  -6.,   4.]]),\n",
       "    array([[-58., -58., -48., -48., -38., -38., -28., -28., -18., -18.,  -8.,\n",
       "             -8.,   2.,   2.,  12.,  12.,  22.,  22.,  32.,  32.],\n",
       "           [ 10.,  20.,  10.,  20.,  10.,  20.,  10.,  20.,  10.,  20.,  10.,\n",
       "             20.,  10.,  20.,  10.,  20.,  10.,  20.,  10.,  20.]]),\n",
       "    array([[-58., -58., -48., -48., -38., -38., -28., -28., -18., -18.,  -8.,\n",
       "             -8.,   2.,   2.,  12.,  12.,  22.,  22.,  32.,  32.],\n",
       "           [ -6.,   4.,  -6.,   4.,  -6.,   4.,  -6.,   4.,  -6.,   4.,  -6.,\n",
       "              4.,  -6.,   4.,  -6.,   4.,  -6.,   4.,  -6.,   4.]]),\n",
       "    array([[-58., -58., -48., -48., -38., -38., -28., -28., -18., -18.,  -8.,\n",
       "             -8.,   2.,   2.,  12.,  12.,  22.,  22.,  32.,  32.],\n",
       "           [ 10.,  20.,  10.,  20.,  10.,  20.,  10.,  20.,  10.,  20.,  10.,\n",
       "             20.,  10.,  20.,  10.,  20.,  10.,  20.,  10.,  20.]]),\n",
       "    array([[-58., -58., -48., -48., -38., -38., -28., -28., -18., -18.,  -8.,\n",
       "             -8.,   2.,   2.,  12.,  12.,  22.,  22.,  32.,  32.],\n",
       "           [ -6.,   4.,  -6.,   4.,  -6.,   4.,  -6.,   4.,  -6.,   4.,  -6.,\n",
       "              4.,  -6.,   4.,  -6.,   4.,  -6.,   4.,  -6.,   4.]])],\n",
       "   'SingleAtomSpecies': [array([78, 97], dtype=uint16),\n",
       "    array([ 67, 115], dtype=uint16),\n",
       "    array([78, 97], dtype=uint16),\n",
       "    array([ 67, 115], dtype=uint16),\n",
       "    array([78, 97], dtype=uint16),\n",
       "    array([ 67, 115], dtype=uint16),\n",
       "    array([78, 97], dtype=uint16),\n",
       "    array([ 67, 115], dtype=uint16)],\n",
       "   'SurvivalIncludedSites': [array([ 1.,  2.,  3.,  4.,  5.,  6.,  7.,  8.,  9., 10., 11., 12., 13.,\n",
       "           14., 15., 16., 17., 18., 19., 20.]),\n",
       "    array([ 1.,  2.,  3.,  4.,  5.,  6.,  7.,  8.,  9., 10., 11., 12., 13.,\n",
       "           14., 15., 16., 17., 18., 19., 20.]),\n",
       "    array([ 1.,  2.,  3.,  4.,  5.,  6.,  7.,  8.,  9., 10., 11., 12., 13.,\n",
       "           14., 15., 16., 17., 18., 19., 20.]),\n",
       "    array([ 1.,  2.,  3.,  4.,  5.,  6.,  7.,  8.,  9., 10., 11., 12., 13.,\n",
       "           14., 15., 16., 17., 18., 19., 20.])],\n",
       "   'SurvivalLoadingLogicals': [array(3.), array(4.), array(5.), array(6.)],\n",
       "   'SurvivalLogicals': [array(5.), array(6.), array(7.), array(8.)],\n",
       "   'actualNumCs': array(20.),\n",
       "   'actualNumNa': array(20.),\n",
       "   'b2Body': array(0.),\n",
       "   'bScramble': array(1.)},\n",
       "  'scans': {'baseidx': [array(0.), array(0.), array(0.)],\n",
       "   'params': [{'Re2DAlg': {'HorzSelectors': array([ 2.,  4.,  6.,  8., 10., 12., 14., 16., 18., 20.])}},\n",
       "    {'Re2DAlg': {'VertScanIdx': array(1.)}},\n",
       "    {'Re2DAlg': {'VertScanIdx': array(2.)}}],\n",
       "   'vars': [{'params': [{'Re2DAlg': {'HorzOffset': array([-200000., -100000.,       0.,  100000.,  200000.])}},\n",
       "      {'Re2DAlg': {'HorzSpacing': array([-50000., -25000.,      0.,  25000.,  50000.])}}],\n",
       "     'size': [array(5.), array(5.)]},\n",
       "    {'params': {'Re2DAlg': {'VertScanFreq': array([72400000., 72600000., 72800000., 73000000., 73200000.])}},\n",
       "     'size': array(5.)},\n",
       "    {'params': {'Re2DAlg': {'VertScanFreq': array([74500000., 74700000., 74900000., 75100000., 75300000.])}},\n",
       "     'size': array(5.)}]},\n",
       "  'use_var_base': {'def': array(0.),\n",
       "   'dims': array([0, 0], dtype=uint64),\n",
       "   'field': array([1, 1], dtype=uint64)},\n",
       "  'use_var_scans': array([0, 0], dtype=uint64),\n",
       "  'version': array(1.)},\n",
       " 'ShowAtomImages': array(0.),\n",
       " 'SingleAtomSites': [array([[-58., -58., -48., -48., -38., -38., -28., -28., -18., -18.,  -8.,\n",
       "           -8.,   2.,   2.,  12.,  12.,  22.,  22.,  32.,  32.],\n",
       "         [ 10.,  20.,  10.,  20.,  10.,  20.,  10.,  20.,  10.,  20.,  10.,\n",
       "           20.,  10.,  20.,  10.,  20.,  10.,  20.,  10.,  20.]]),\n",
       "  array([[-58., -58., -48., -48., -38., -38., -28., -28., -18., -18.,  -8.,\n",
       "           -8.,   2.,   2.,  12.,  12.,  22.,  22.,  32.,  32.],\n",
       "         [ -6.,   4.,  -6.,   4.,  -6.,   4.,  -6.,   4.,  -6.,   4.,  -6.,\n",
       "            4.,  -6.,   4.,  -6.,   4.,  -6.,   4.,  -6.,   4.]]),\n",
       "  array([[-58., -58., -48., -48., -38., -38., -28., -28., -18., -18.,  -8.,\n",
       "           -8.,   2.,   2.,  12.,  12.,  22.,  22.,  32.,  32.],\n",
       "         [ 10.,  20.,  10.,  20.,  10.,  20.,  10.,  20.,  10.,  20.,  10.,\n",
       "           20.,  10.,  20.,  10.,  20.,  10.,  20.,  10.,  20.]]),\n",
       "  array([[-58., -58., -48., -48., -38., -38., -28., -28., -18., -18.,  -8.,\n",
       "           -8.,   2.,   2.,  12.,  12.,  22.,  22.,  32.,  32.],\n",
       "         [ -6.,   4.,  -6.,   4.,  -6.,   4.,  -6.,   4.,  -6.,   4.,  -6.,\n",
       "            4.,  -6.,   4.,  -6.,   4.,  -6.,   4.,  -6.,   4.]]),\n",
       "  array([[-58., -58., -48., -48., -38., -38., -28., -28., -18., -18.,  -8.,\n",
       "           -8.,   2.,   2.,  12.,  12.,  22.,  22.,  32.,  32.],\n",
       "         [ 10.,  20.,  10.,  20.,  10.,  20.,  10.,  20.,  10.,  20.,  10.,\n",
       "           20.,  10.,  20.,  10.,  20.,  10.,  20.,  10.,  20.]]),\n",
       "  array([[-58., -58., -48., -48., -38., -38., -28., -28., -18., -18.,  -8.,\n",
       "           -8.,   2.,   2.,  12.,  12.,  22.,  22.,  32.,  32.],\n",
       "         [ -6.,   4.,  -6.,   4.,  -6.,   4.,  -6.,   4.,  -6.,   4.,  -6.,\n",
       "            4.,  -6.,   4.,  -6.,   4.,  -6.,   4.,  -6.,   4.]]),\n",
       "  array([[-58., -58., -48., -48., -38., -38., -28., -28., -18., -18.,  -8.,\n",
       "           -8.,   2.,   2.,  12.,  12.,  22.,  22.,  32.,  32.],\n",
       "         [ 10.,  20.,  10.,  20.,  10.,  20.,  10.,  20.,  10.,  20.,  10.,\n",
       "           20.,  10.,  20.,  10.,  20.,  10.,  20.,  10.,  20.]]),\n",
       "  array([[-58., -58., -48., -48., -38., -38., -28., -28., -18., -18.,  -8.,\n",
       "           -8.,   2.,   2.,  12.,  12.,  22.,  22.,  32.,  32.],\n",
       "         [ -6.,   4.,  -6.,   4.,  -6.,   4.,  -6.,   4.,  -6.,   4.,  -6.,\n",
       "            4.,  -6.,   4.,  -6.,   4.,  -6.,   4.,  -6.,   4.]])],\n",
       " 'SingleAtomSpecies': [array([78, 97], dtype=uint16),\n",
       "  array([ 67, 115], dtype=uint16),\n",
       "  array([78, 97], dtype=uint16),\n",
       "  array([ 67, 115], dtype=uint16),\n",
       "  array([78, 97], dtype=uint16),\n",
       "  array([ 67, 115], dtype=uint16),\n",
       "  array([78, 97], dtype=uint16),\n",
       "  array([ 67, 115], dtype=uint16)],\n",
       " 'SurvivalIncludedSites': [array([ 1.,  2.,  3.,  4.,  5.,  6.,  7.,  8.,  9., 10., 11., 12., 13.,\n",
       "         14., 15., 16., 17., 18., 19., 20.]),\n",
       "  array([ 1.,  2.,  3.,  4.,  5.,  6.,  7.,  8.,  9., 10., 11., 12., 13.,\n",
       "         14., 15., 16., 17., 18., 19., 20.]),\n",
       "  array([ 1.,  2.,  3.,  4.,  5.,  6.,  7.,  8.,  9., 10., 11., 12., 13.,\n",
       "         14., 15., 16., 17., 18., 19., 20.]),\n",
       "  array([ 1.,  2.,  3.,  4.,  5.,  6.,  7.,  8.,  9., 10., 11., 12., 13.,\n",
       "         14., 15., 16., 17., 18., 19., 20.])],\n",
       " 'SurvivalLoadingLogicals': [array(3.), array(4.), array(5.), array(6.)],\n",
       " 'SurvivalLogicals': [array(5.), array(6.), array(7.), array(8.)],\n",
       " 'version': array(4.)}"
      ]
     },
     "execution_count": 4,
     "metadata": {},
     "output_type": "execute_result"
    }
   ],
   "source": [
    "dict3 = "
   ]
  },
  {
   "cell_type": "code",
   "execution_count": null,
   "id": "03158526",
   "metadata": {},
   "outputs": [
    {
     "data": {
      "text/plain": [
       "h5py._hl.dataset.Dataset"
      ]
     },
     "execution_count": 13,
     "metadata": {},
     "output_type": "execute_result"
    }
   ],
   "source": [
    "type(data2.data['/#refs#/1/Re2DAlg/HorzSelectors'])"
   ]
  },
  {
   "cell_type": "code",
   "execution_count": null,
   "id": "02586244",
   "metadata": {},
   "outputs": [
    {
     "data": {
      "text/plain": [
       "h5py._hl.group.Group"
      ]
     },
     "execution_count": 14,
     "metadata": {},
     "output_type": "execute_result"
    }
   ],
   "source": [
    "type(data2.data['/#refs#/1/Re2DAlg'])"
   ]
  },
  {
   "cell_type": "code",
   "execution_count": null,
   "id": "7f1fb735",
   "metadata": {},
   "outputs": [
    {
     "data": {
      "text/plain": [
       "h5py._hl.group.Group"
      ]
     },
     "execution_count": 16,
     "metadata": {},
     "output_type": "execute_result"
    }
   ],
   "source": [
    "type(data2.data['Scan'])"
   ]
  },
  {
   "cell_type": "code",
   "execution_count": null,
   "id": "3ec2a3bd",
   "metadata": {},
   "outputs": [
    {
     "data": {
      "text/plain": [
       "<KeysViewHDF5 ['#refs#', 'Analysis', 'Scan']>"
      ]
     },
     "execution_count": 17,
     "metadata": {},
     "output_type": "execute_result"
    }
   ],
   "source": [
    "data2.data.keys()"
   ]
  },
  {
   "cell_type": "code",
   "execution_count": null,
   "id": "3cd16dbe",
   "metadata": {},
   "outputs": [
    {
     "data": {
      "text/plain": [
       "(90, 160, 8)"
      ]
     },
     "execution_count": 22,
     "metadata": {},
     "output_type": "execute_result"
    }
   ],
   "source": [
    "dict2['Analysis']['SummaryData']['av_images'].shape"
   ]
  },
  {
   "cell_type": "code",
   "execution_count": null,
   "id": "0c3f3754",
   "metadata": {},
   "outputs": [
    {
     "data": {
      "text/plain": [
       "np.float64(90.0)"
      ]
     },
     "execution_count": 24,
     "metadata": {},
     "output_type": "execute_result"
    }
   ],
   "source": [
    "dict2['Scan']['FrameSize'][0]"
   ]
  },
  {
   "cell_type": "code",
   "execution_count": null,
   "id": "61ee00db",
   "metadata": {},
   "outputs": [
    {
     "data": {
      "text/plain": [
       "6"
      ]
     },
     "execution_count": 26,
     "metadata": {},
     "output_type": "execute_result"
    }
   ],
   "source": [
    "dict2['Scan']['ImgsToSave'].size"
   ]
  },
  {
   "cell_type": "code",
   "execution_count": null,
   "id": "dbad985a",
   "metadata": {},
   "outputs": [],
   "source": [
    "test = h5py.File('W:\\\\NaCsRydLab\\\\Data\\\\20250206\\\\data_20250206_162814\\\\data_20250206_162814_imgs.mat')"
   ]
  },
  {
   "cell_type": "code",
   "execution_count": null,
   "id": "092aa745",
   "metadata": {},
   "outputs": [],
   "source": [
    "test2 = utils.cvt_multidim_array(test, 'Images')"
   ]
  },
  {
   "cell_type": "code",
   "execution_count": null,
   "id": "a2697a26",
   "metadata": {},
   "outputs": [
    {
     "data": {
      "text/plain": [
       "(90, 160, 1686)"
      ]
     },
     "execution_count": 32,
     "metadata": {},
     "output_type": "execute_result"
    }
   ],
   "source": [
    "test2.shape"
   ]
  },
  {
   "cell_type": "code",
   "execution_count": null,
   "id": "a28aa1cc",
   "metadata": {},
   "outputs": [],
   "source": [
    "test_imgs = np.zeros([30,40, 20])\n",
    "for i in range(20):\n",
    "    test_imgs[:,:,i] = i * np.ones([30,40])"
   ]
  },
  {
   "cell_type": "code",
   "execution_count": null,
   "id": "df133a49",
   "metadata": {},
   "outputs": [
    {
     "data": {
      "text/plain": [
       "(30, 40, 20)"
      ]
     },
     "execution_count": 34,
     "metadata": {},
     "output_type": "execute_result"
    }
   ],
   "source": [
    "test_imgs.shape"
   ]
  },
  {
   "cell_type": "code",
   "execution_count": null,
   "id": "7d4db7e1",
   "metadata": {},
   "outputs": [
    {
     "data": {
      "text/plain": [
       "array([[0., 0., 0., ..., 0., 0., 0.],\n",
       "       [0., 0., 0., ..., 0., 0., 0.],\n",
       "       [0., 0., 0., ..., 0., 0., 0.],\n",
       "       ...,\n",
       "       [0., 0., 0., ..., 0., 0., 0.],\n",
       "       [0., 0., 0., ..., 0., 0., 0.],\n",
       "       [0., 0., 0., ..., 0., 0., 0.]], shape=(30, 40))"
      ]
     },
     "execution_count": 35,
     "metadata": {},
     "output_type": "execute_result"
    }
   ],
   "source": [
    "test_imgs[:,:,0]"
   ]
  },
  {
   "cell_type": "code",
   "execution_count": null,
   "id": "0e0be18a",
   "metadata": {},
   "outputs": [
    {
     "data": {
      "text/plain": [
       "array([[2., 2., 2., ..., 2., 2., 2.],\n",
       "       [2., 2., 2., ..., 2., 2., 2.],\n",
       "       [2., 2., 2., ..., 2., 2., 2.],\n",
       "       ...,\n",
       "       [2., 2., 2., ..., 2., 2., 2.],\n",
       "       [2., 2., 2., ..., 2., 2., 2.],\n",
       "       [2., 2., 2., ..., 2., 2., 2.]], shape=(30, 40))"
      ]
     },
     "execution_count": 37,
     "metadata": {},
     "output_type": "execute_result"
    }
   ],
   "source": [
    "test_imgs[:,:,2]"
   ]
  },
  {
   "cell_type": "code",
   "execution_count": null,
   "id": "061a0204",
   "metadata": {},
   "outputs": [],
   "source": [
    "test2 = np.transpose(np.reshape(test_imgs, [30, 40, 5, 4]), (0,1,3,2))"
   ]
  },
  {
   "cell_type": "code",
   "execution_count": null,
   "id": "de360868",
   "metadata": {},
   "outputs": [
    {
     "data": {
      "text/plain": [
       "array([[2., 2., 2., ..., 2., 2., 2.],\n",
       "       [2., 2., 2., ..., 2., 2., 2.],\n",
       "       [2., 2., 2., ..., 2., 2., 2.],\n",
       "       ...,\n",
       "       [2., 2., 2., ..., 2., 2., 2.],\n",
       "       [2., 2., 2., ..., 2., 2., 2.],\n",
       "       [2., 2., 2., ..., 2., 2., 2.]], shape=(30, 40))"
      ]
     },
     "execution_count": 51,
     "metadata": {},
     "output_type": "execute_result"
    }
   ],
   "source": [
    "test2[:,:,2,0]"
   ]
  },
  {
   "cell_type": "code",
   "execution_count": 1,
   "id": "adff5a38",
   "metadata": {},
   "outputs": [
    {
     "name": "stdout",
     "output_type": "stream",
     "text": [
      "Loading W:\\NaCsRydLab\\Data\\20250212\\data_20250212_101956\\data_20250212_101956.mat\n"
     ]
    }
   ],
   "source": [
    "import SingleData\n",
    "import numpy as np\n",
    "\n",
    "data3 = SingleData.SingleData('20250212', '101956', 'W:\\\\NaCsRydLab\\\\Data\\\\')"
   ]
  },
  {
   "cell_type": "code",
   "execution_count": 6,
   "id": "a9946635",
   "metadata": {},
   "outputs": [
    {
     "data": {
      "text/plain": [
       "array([1, 2, 3])"
      ]
     },
     "execution_count": 6,
     "metadata": {},
     "output_type": "execute_result"
    }
   ],
   "source": [
    "results = data3.get_logicals(seq_idxs=np.array([1,2,3]), img_idxs=np.array([2,4,3]))\n",
    "data3.seq_idxs"
   ]
  },
  {
   "cell_type": "code",
   "execution_count": 9,
   "id": "e345c4bd",
   "metadata": {},
   "outputs": [
    {
     "data": {
      "text/plain": [
       "(3, 40, 3)"
      ]
     },
     "execution_count": 9,
     "metadata": {},
     "output_type": "execute_result"
    }
   ],
   "source": [
    "results[0].shape"
   ]
  },
  {
   "cell_type": "code",
   "execution_count": 6,
   "id": "9a68756c",
   "metadata": {},
   "outputs": [
    {
     "name": "stderr",
     "output_type": "stream",
     "text": [
      "C:\\Users\\goyan\\AppData\\Local\\Temp\\ipykernel_28352\\3635281209.py:1: DeprecationWarning: `in1d` is deprecated. Use `np.isin` instead.\n",
      "  np.where(np.in1d(np.array([1,2,3,0]), np.array([0,1,3])))\n"
     ]
    },
    {
     "data": {
      "text/plain": [
       "(array([0, 2, 3]),)"
      ]
     },
     "execution_count": 6,
     "metadata": {},
     "output_type": "execute_result"
    }
   ],
   "source": [
    "np.where(np.in1d(np.array([1,2,3,0]), np.array([0,1,3])))"
   ]
  },
  {
   "cell_type": "code",
   "execution_count": 9,
   "id": "446a5894",
   "metadata": {},
   "outputs": [],
   "source": [
    "a = np.random.rand(5,3,5)"
   ]
  },
  {
   "cell_type": "markdown",
   "id": "c8b6f7ed",
   "metadata": {},
   "source": []
  },
  {
   "cell_type": "code",
   "execution_count": 10,
   "id": "48a501a4",
   "metadata": {},
   "outputs": [
    {
     "ename": "IndexError",
     "evalue": "shape mismatch: indexing arrays could not be broadcast together with shapes (2,) (3,) ",
     "output_type": "error",
     "traceback": [
      "\u001b[1;31m---------------------------------------------------------------------------\u001b[0m",
      "\u001b[1;31mIndexError\u001b[0m                                Traceback (most recent call last)",
      "Cell \u001b[1;32mIn[10], line 1\u001b[0m\n\u001b[1;32m----> 1\u001b[0m \u001b[43ma\u001b[49m\u001b[43m[\u001b[49m\u001b[43m[\u001b[49m\u001b[38;5;241;43m0\u001b[39;49m\u001b[43m,\u001b[49m\u001b[38;5;241;43m1\u001b[39;49m\u001b[43m]\u001b[49m\u001b[43m,\u001b[49m\u001b[43m \u001b[49m\u001b[38;5;241;43m1\u001b[39;49m\u001b[43m,\u001b[49m\u001b[43m \u001b[49m\u001b[43m[\u001b[49m\u001b[38;5;241;43m0\u001b[39;49m\u001b[43m,\u001b[49m\u001b[38;5;241;43m2\u001b[39;49m\u001b[43m,\u001b[49m\u001b[38;5;241;43m3\u001b[39;49m\u001b[43m]\u001b[49m\u001b[43m]\u001b[49m\n",
      "\u001b[1;31mIndexError\u001b[0m: shape mismatch: indexing arrays could not be broadcast together with shapes (2,) (3,) "
     ]
    }
   ],
   "source": [
    "a[[0,1], 1, [0,2,3]]"
   ]
  },
  {
   "cell_type": "code",
   "execution_count": 12,
   "id": "b24d29e1",
   "metadata": {},
   "outputs": [
    {
     "name": "stderr",
     "output_type": "stream",
     "text": [
      "C:\\Users\\goyan\\AppData\\Local\\Temp\\ipykernel_9476\\4178106197.py:1: DeprecationWarning: `in1d` is deprecated. Use `np.isin` instead.\n",
      "  np.where(np.in1d(np.array([0,1,2]), np.array([1,2,3])))[0]\n"
     ]
    },
    {
     "data": {
      "text/plain": [
       "array([1, 2])"
      ]
     },
     "execution_count": 12,
     "metadata": {},
     "output_type": "execute_result"
    }
   ],
   "source": [
    "np.where(np.in1d(np.array([0,1,2]), np.array([1,2,3])))[0]"
   ]
  },
  {
   "cell_type": "code",
   "execution_count": null,
   "id": "5352d0c4",
   "metadata": {},
   "outputs": [],
   "source": []
  }
 ],
 "metadata": {
  "kernelspec": {
   "display_name": "Python 3",
   "language": "python",
   "name": "python3"
  },
  "language_info": {
   "codemirror_mode": {
    "name": "ipython",
    "version": 3
   },
   "file_extension": ".py",
   "mimetype": "text/x-python",
   "name": "python",
   "nbconvert_exporter": "python",
   "pygments_lexer": "ipython3",
   "version": "3.13.2"
  }
 },
 "nbformat": 4,
 "nbformat_minor": 5
}
